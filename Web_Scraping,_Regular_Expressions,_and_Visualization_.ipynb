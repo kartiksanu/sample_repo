{
  "nbformat": 4,
  "nbformat_minor": 0,
  "metadata": {
    "colab": {
      "name": "Web Scraping, Regular Expressions, and Visualization .ipynb",
      "version": "0.3.2",
      "provenance": [],
      "include_colab_link": true
    },
    "kernelspec": {
      "name": "python3",
      "display_name": "Python 3"
    }
  },
  "cells": [
    {
      "cell_type": "markdown",
      "metadata": {
        "id": "view-in-github",
        "colab_type": "text"
      },
      "source": [
        "<a href=\"https://colab.research.google.com/github/kartiksanu/sample_repo/blob/master/Web_Scraping%2C_Regular_Expressions%2C_and_Visualization_.ipynb\" target=\"_parent\"><img src=\"https://colab.research.google.com/assets/colab-badge.svg\" alt=\"Open In Colab\"/></a>"
      ]
    },
    {
      "metadata": {
        "id": "8F-vlK3uAWH1",
        "colab_type": "text"
      },
      "cell_type": "markdown",
      "source": [
        "# Introduction\n",
        "\n",
        "This notebook is meant to serve as a small example project of how to get data from the web using Python. Here we will scrape the data from the web, parse the results using regular expressions, and visualize the data. This small project could probably be done a lot more efficiently by hand, but the ideas here are powerful and can be extended to much larger applications. There are many tools that a data scientist will need to use, and web scraping, regular expressions, and visualization are all good techniques to practice! "
      ]
    },
    {
      "metadata": {
        "id": "YuG1JtCLBU-I",
        "colab_type": "text"
      },
      "cell_type": "markdown",
      "source": [
        "# Web Scraping Using Requests and Beautiful Soup (bs4)"
      ]
    },
    {
      "metadata": {
        "id": "nAl0C2yPFita",
        "colab_type": "code",
        "colab": {}
      },
      "cell_type": "code",
      "source": [
        "# requests for fetching html of website\n",
        "import requests\n",
        "\n",
        "# Make the request to a url\n",
        "r = requests.get('http://www.cleveland.com/metro/index.ssf/2017/12/case_western_reserve_university_president_barbara_snyders_base_salary_and_bonus_pay_tops_among_private_colleges_in_ohio.html')\n",
        "\n",
        "# Create soup from content of request\n",
        "c = r.content\n",
        "\n",
        "from bs4 import BeautifulSoup\n",
        "\n",
        "soup = BeautifulSoup(c)"
      ],
      "execution_count": 0,
      "outputs": []
    },
    {
      "metadata": {
        "id": "YaPgkW1ZBq8e",
        "colab_type": "text"
      },
      "cell_type": "markdown",
      "source": [
        "We can find an element on the page by inspecting the page (right click and hit inspect element). We then use a series of HTML selectors to find the appropriate tags which contain the content we are interested in. The next code block finds the main text of the entire article. We will then further subset the text to the relevant table and save it as a text object. "
      ]
    },
    {
      "metadata": {
        "id": "owzwg4U1JWwa",
        "colab_type": "code",
        "colab": {
          "base_uri": "https://localhost:8080/",
          "height": 55
        },
        "outputId": "1374078d-ae76-4b29-94a1-cf901d7c527c"
      },
      "cell_type": "code",
      "source": [
        "# Find the element on the webpage\n",
        "main_content = soup.find('div', attrs = {'class': 'entry-content'})\n",
        "main_content"
      ],
      "execution_count": 3,
      "outputs": [
        {
          "output_type": "execute_result",
          "data": {
            "text/plain": [
              "<div class=\"entry-content\"> <p class=\"article__paragraph\">CLEVELAND, Ohio - <a href=\"http://www.case.edu/\">Case Western Reserve University </a>President Barbara Snyder's $700,312 base pay and $175,000 bonus in 2015 again made her the highest paid private college leader in Ohio, according to an annual report.</p><p class=\"article__paragraph\">Nationally, Snyder's total compensation of $1.154 million, which can include deferred compensation and other pay, ranked 41st out of 541 presidents of private colleges according to the report by the <a href=\"http://chronicle.com/\">Chronicle of Higher Education.</a></p> <div class=\"ad ad--in-article\" id=\"in-article_AOJSWF2SO5F6NLAFYE77J7FAPI\"></div> <p class=\"article__paragraph\">She is among 58 presidents to earn $1 million or more. The previous year, 39 private college presidents earned more than $1 million.</p><p class=\"article__paragraph\">The Chronicle's <a href=\"https://www.chronicle.com/interactives/executive-compensation#id=table_private_2015\">compensation tables </a>come from a review of federal tax documents from the 2015 calendar year, the most recent available.</p><p class=\"article__paragraph\">Former University of Dayton President Daniel Curran, who left in 2016, ranked eighth in the U.S. with a total compensation of $2.44 million, but $1.66 million of that was in other pay, which was likely deferred compensation awarded after he announced his retirement. His total pay in 2014 was $771,354.</p><p class=\"article__paragraph\">Following is total compensation for other presidents at private colleges in Ohio in 2015:</p><ul class=\"article__unordered-list\"> <li class=\"article__unordered-list-item\">Grant Cornwell, College of Wooster (left in 2015): $911,651</li> <li class=\"article__unordered-list-item\">Marvin Krislov, Oberlin College (left in 2016):  $829,913</li> <li class=\"article__unordered-list-item\">Mark Roosevelt, Antioch College, (left in 2015): $507,672</li> <li class=\"article__unordered-list-item\">Laurie Joyner, Wittenberg University (left in 2015): $463,504</li> <li class=\"article__unordered-list-item\">Richard Giese, University of Mount Union (left in 2015): $453,800</li> <li class=\"article__unordered-list-item\">Sean Decatur,Kenyon College: $451,698</li> <li class=\"article__unordered-list-item\">Adam Weinberg, Denison University: $435,322</li> <li class=\"article__unordered-list-item\">Daniel Dibiasio, Ohio Northern University: $414,716</li> <li class=\"article__unordered-list-item\">Denvy Bowman, Capital University (left in 2016): $388,570</li> <li class=\"article__unordered-list-item\">Anne Steele, Muskingum University (left in 2016): $384,233</li> <li class=\"article__unordered-list-item\">Kathy Krendl, Otterbein University:  $378,035</li> <li class=\"article__unordered-list-item\">Rockwell Jones, Ohio Wesleyan University: $366,625</li> <li class=\"article__unordered-list-item\">Robert Helmer, Baldwin Wallace University: $365,616</li> <li class=\"article__unordered-list-item\">Robert Huntington, Heidelberg University: $300,005</li> <li class=\"article__unordered-list-item\">Lori Varlotta, Hiram College: $293,336</li> <li class=\"article__unordered-list-item\">Joseph Bruno, Marietta College (left in 2016): $288,295</li> <li class=\"article__unordered-list-item\">W. Richard Merriman Jr., University of Mount Union (started in June 2015): $221,761</li> </ul> <p class=\"article__paragraph\">The Rev. Robert Niehoff, president of John Carroll University (retired in 2017), Rev. Sean Sheridan of  Franciscan University of Steubenville and Rev. Michael Graham Xavier University do not take salaries.</p><p class=\"article__paragraph\">See the full list of presidents at <a href=\"http://www.chronicle.com/compensation\">chronicle.com/compensation.</a></p><p class=\"article__paragraph\">The Chronicle's list of pay for public college presidents was released in July.</p><div class=\"rawhtml\"><a href=\"http://www.cleveland.com/metro/index.ssf/2017/06/ohio_state_university_presiden_6.html\">Ohio State University President Michael Drake is 7th highest paid U.S. public college president</a></div> <p class=\"article__paragraph\">Ohio State President Michael Drake, with a total compensation of $1.03 million, was one of eight presidents who earned $1 million or more in the 2015-16 fiscal year.</p> <div class=\"ad ad--in-article\" id=\"in-article_FXUGCLQM3VGPHBZIYHU7QYIX7M\"></div> <p class=\"article__paragraph\">But when compared to Ohio State's 2014 annual $5.2 billion operating budget, Drake's pay per million in expenses is $199 -- among the lowest for presidents.</p><p class=\"article__paragraph\">By comparison, Cleveland State University President Ronald Berkman, whose total compensation was $641,817, oversaw an annual operating budget of $300.3 million in 2014. His pay per million in expenses was $2,127.</p><p class=\"article__paragraph\">Kent State University President Beverly Warren's pay per million in expenses was $1,006. Her total compensation was $560,659 and she oversaw an annual operating budget of $557.4 million in 2014.</p><p class=\"article__paragraph\">The<a href=\"http://www.chronicle.com/interactives/executive-compensation\"> Chronicle's analysis </a>was based on 254 presidents from 221 colleges.</p><p class=\"article__paragraph\">According to the Chronicle:</p><ul class=\"article__unordered-list\"> <li class=\"article__unordered-list-item\">The average pay of private college presidents who served the full year in 2015 was $569,932, up 9 percent over presidents who served a full year in 2014.</li> <li class=\"article__unordered-list-item\">Nine of the 10 highest-paid chief executives earned more from bonuses and deferred compensation than they did from base salaries.</li> <li class=\"article__unordered-list-item\">The analysis is based on the latest available federal tax filings of the 500 private, nonprofit colleges with the largest endowments. The data include compensation figures for 568 presidents who served at 500 institutions for all or part of 2015. There were 352 presidents who served all of 2014 and 2015.</li> <li class=\"article__unordered-list-item\">The number of presidents earning over $1 million is attributed, in part, to a market where presidents are negotiating more deferred compensation and bonus packages before they take the job.</li> <li class=\"article__unordered-list-item\">The top two earners, Wake Forest University President Nathan Hatch ($4 million) and former Emory University President James Wagner ($3.5 million) were each paid more than $2 million in deferred compensation in 2015.</li> </ul> <p class=\"article__paragraph\">The Chronicle also compares pay to presidents in context of their colleges, including looking at each institution's expenses, average tuition and fees and professor salaries.</p></div>"
            ]
          },
          "metadata": {
            "tags": []
          },
          "execution_count": 3
        }
      ]
    },
    {
      "metadata": {
        "id": "bTYLGSParbOH",
        "colab_type": "code",
        "colab": {
          "base_uri": "https://localhost:8080/",
          "height": 243
        },
        "outputId": "8381889c-a179-4a4f-cef7-d632dda4c455"
      },
      "cell_type": "code",
      "source": [
        "# Extract the relevant information\n",
        "content = main_content.find('ul').text\n",
        "\n",
        "import pprint\n",
        "pprint.pprint(content)"
      ],
      "execution_count": 4,
      "outputs": [
        {
          "output_type": "stream",
          "text": [
            "(' Grant Cornwell, College of Wooster (left in 2015): $911,651 Marvin Krislov, '\n",
            " 'Oberlin College (left in 2016): \\xa0$829,913 Mark Roosevelt, Antioch '\n",
            " 'College, (left in 2015): $507,672 Laurie Joyner, Wittenberg University (left '\n",
            " 'in 2015): $463,504 Richard Giese, University of Mount Union (left in 2015): '\n",
            " '$453,800 Sean Decatur,Kenyon College: $451,698 Adam Weinberg, Denison '\n",
            " 'University: $435,322 Daniel Dibiasio, Ohio Northern University: $414,716 '\n",
            " 'Denvy Bowman, Capital University (left in 2016): $388,570 Anne Steele, '\n",
            " 'Muskingum University (left in 2016): $384,233 Kathy Krendl, Otterbein '\n",
            " 'University: \\xa0$378,035 Rockwell Jones, Ohio Wesleyan University: $366,625 '\n",
            " 'Robert Helmer, Baldwin Wallace University: $365,616 Robert Huntington, '\n",
            " 'Heidelberg University: $300,005 Lori Varlotta, Hiram College: $293,336 '\n",
            " 'Joseph Bruno, Marietta College (left in 2016): $288,295 W. Richard Merriman '\n",
            " 'Jr., University of Mount Union (started in June 2015): $221,761 ')\n"
          ],
          "name": "stdout"
        }
      ]
    },
    {
      "metadata": {
        "id": "vusj0xMpCNdn",
        "colab_type": "text"
      },
      "cell_type": "markdown",
      "source": [
        "We know have the data we need to focus on as a text string. The next step is to parse this information using regular expressions to identify the presidents, colleges, and salaries. Regular Expressions are intimidating at first, and require practice to learn to use effectively. I am definitely not an expert, and am using this project partly to get more familiar with regular expressions. The best place to get started is simply with the [Python Documentation](https://docs.python.org/3/library/re.html) for the `re` library."
      ]
    },
    {
      "metadata": {
        "id": "IiNoXEu_k06_",
        "colab_type": "code",
        "colab": {
          "base_uri": "https://localhost:8080/",
          "height": 55
        },
        "outputId": "ab6b1a03-e532-4e97-8589-d0c0c29a01a0"
      },
      "cell_type": "code",
      "source": [
        "c\n"
      ],
      "execution_count": 2,
      "outputs": [
        {
          "output_type": "execute_result",
          "data": {
            "text/plain": [
              "b'<!doctype html> <html lang=\"en-US\" xmlns:fb=\"http://www.facebook.com/2008/fbml\" xmlns:og=\"http://ogp.me/ns#\"> <head> <script>window.serviceCallbacks=[];window.region_redirect_url=\"\";if(window.location.href===window.region_redirect_url&&typeof Storage!==\"undefined\"){var region=window.localStorage.getItem(\"region-item\");if(region)window.location.replace(window.region_redirect_url+region)};</script> <title>Case Western Reserve University President Barbara Snyder\\'s base salary and bonus pay tops among private colleges in Ohio - cleveland.com</title> <meta name=\"Description\" content=\"Case Western Reserve University President Barbara Snyder&#039;s $700,312 base pay and $175,000 bonus in 2015 again made her the highest paid private college leader in Ohio, according to an annual report.\"/> <meta charset=\"utf-8\"/> <meta http-equiv=\"X-UA-Compatible\" content=\"IE=edge,chrome=1\"/> <meta name=\"viewport\" content=\"width=device-width, initial-scale=1, minimum-scale=1\"/> <meta property=\"fb:admins\" content=\"100000302287435\"/> <meta property=\"fb:app_id\" content=\"125188170846713\"/> <link rel=\"amphtml\" href=\"https://www.cleveland.com/metro/2017/12/case_western_reserve_university_president_barbara_snyders_base_salary_and_bonus_pay_tops_among_private_colleges_in_ohio.html?outputType=amp\"/> <meta name=\"title\" content=\"Case Western Reserve University President Barbara Snyder\\'s base salary and bonus pay tops among private colleges in Ohio \"/> <meta property=\"og:title\" content=\"Case Western Reserve University President Barbara Snyder\\'s base salary and bonus pay tops among private colleges in Ohio \"/> <meta property=\"og:description\" content=\"Case Western Reserve University President Barbara Snyder&#039;s $700,312 base pay and $175,000 bonus in 2015 again made her the highest paid private college leader in Ohio, according to an annual report.\"/> <meta property=\"og:url\" content=\"https://www.cleveland.com/metro/2017/12/case_western_reserve_university_president_barbara_snyders_base_salary_and_bonus_pay_tops_among_private_colleges_in_ohio.html\"/> <meta property=\"og:site_name\" content=\"cleveland.com\"/> <meta property=\"og:image\" content=\"https://www.cleveland.com/resizer/TGNM8-loeSZuDhjhqhthGsqgpTQ=/1200x0/advancelocal-adapter-image-uploads.s3.amazonaws.com/image.cleveland.com/home/cleve-media/width2048/img/plain_dealer_metro/photo/cwrus-snyder-tops-pay-scale-highest-paid-of-ohio-private-college-chiefs-at-over-1m-yearly-581ba32ba99d75e9.jpg\"/> <meta property=\"og:image:width\" content=\"1200\"/> <meta property=\"og:type\" content=\"article\"/> <meta property=\"article:published_time\" content=\"2017-12-11T02:00:00.000Z\"/> <meta property=\"article:modified_time\" content=\"2017-12-11T03:00:00.000Z\"/> <meta property=\"article:author\" content=\"Karen Farkas\"/> <meta property=\"article:section\" content=\"Metro, News\"/> <meta property=\"article:tag\" content=\"@fbia, @real-time-news, baldwin-wallace-university, barbara-snyder, case-western-reserve-university, john-carroll-university, oberlin-college\"/> <meta name=\"twitter:card\" content=\"summary_large_image\"/> <meta name=\"twitter:description\" content=\"Case Western Reserve University President Barbara Snyder&#039;s $700,312 base pay and $175,000 bonus in 2015 again made her the highest paid private college leader in Ohio, according to an annual report.\"/> <meta name=\"twitter:image\" content=\"https://www.cleveland.com/resizer/TGNM8-loeSZuDhjhqhthGsqgpTQ=/1200x0/advancelocal-adapter-image-uploads.s3.amazonaws.com/image.cleveland.com/home/cleve-media/width2048/img/plain_dealer_metro/photo/cwrus-snyder-tops-pay-scale-highest-paid-of-ohio-private-college-chiefs-at-over-1m-yearly-581ba32ba99d75e9.jpg\"/> <meta name=\"twitter:title\" content=\"Case Western Reserve University President Barbara Snyder\\'s base salary and bonus pay tops among private colleges in Ohio \"/> <meta name=\"twitter:site\" content=\"@clevelanddotcom\"/> <meta name=\"twitter:creator\" content=\"@karen_farkas\"/> <meta name=\"article_publication_name\" content=\"cleveland.com\"/> <meta name=\"title\" content=\"Case Western Reserve University President Barbara Snyder\\'s base salary and bonus pay tops among private colleges in Ohio \"/> <meta name=\"article_author\" content=\"Karen Farkas | \"/> <meta name=\"article_date_original\" content=\"Sunday, December 10, 2017, 10:00 PM\"/> <meta name=\"article_date_updated\" content=\"Sunday, December 10, 2017, 11:00 PM\"/> <link rel=\"image_src\" href=\"https://www.cleveland.com/resizer/TGNM8-loeSZuDhjhqhthGsqgpTQ=/1200x0/advancelocal-adapter-image-uploads.s3.amazonaws.com/image.cleveland.com/home/cleve-media/width2048/img/plain_dealer_metro/photo/cwrus-snyder-tops-pay-scale-highest-paid-of-ohio-private-college-chiefs-at-over-1m-yearly-581ba32ba99d75e9.jpg\"/> <script type=\"application/ld+json\">\\n        {\\n            \"@context\": \"http://schema.org\",\\n            \"@type\": \"NewsArticle\",\\n            \"mainEntityOfPage\": {\\n                \"@type\": \"WebPage\",\\n                \"@id\": \"https://www.cleveland.com/metro/2017/12/case_western_reserve_university_president_barbara_snyders_base_salary_and_bonus_pay_tops_among_private_colleges_in_ohio.html\"\\n            },\\n            \"headline\": \"Case Western Reserve University President Barbara Snyder\\'s base salary and bonus pay tops among private colleges in Ohio \",\\n            \"url\": \"https://www.cleveland.com/metro/2017/12/case_western_reserve_university_president_barbara_snyders_base_salary_and_bonus_pay_tops_among_private_colleges_in_ohio.html\",\\n            \"thumbnailUrl\": \"https://www.cleveland.com/resizer/TGNM8-loeSZuDhjhqhthGsqgpTQ=/1200x0/advancelocal-adapter-image-uploads.s3.amazonaws.com/image.cleveland.com/home/cleve-media/width2048/img/plain_dealer_metro/photo/cwrus-snyder-tops-pay-scale-highest-paid-of-ohio-private-college-chiefs-at-over-1m-yearly-581ba32ba99d75e9.jpg\",\\n            \"image\": \"https://www.cleveland.com/resizer/TGNM8-loeSZuDhjhqhthGsqgpTQ=/1200x0/advancelocal-adapter-image-uploads.s3.amazonaws.com/image.cleveland.com/home/cleve-media/width2048/img/plain_dealer_metro/photo/cwrus-snyder-tops-pay-scale-highest-paid-of-ohio-private-college-chiefs-at-over-1m-yearly-581ba32ba99d75e9.jpg\",\\n            \"dateCreated\": \"2017-12-11T02:00:00.000Z\",\\n            \"datePublished\": \"2017-12-11T02:00:00.000Z\",\\n            \"dateModified\": \"2017-12-11T03:00:00.000Z\",\\n            \"publisher\": {\\n                \"@type\": \"Organization\",\\n                \"name\": \"cleveland.com\",\\n                \"logo\": {\\n                    \"@type\": \"ImageObject\",\\n                    \"url\": \"https://static.advance.net/static/cleve/static/img/logos/logo_main.png\"\\n                }\\n            },\\n            \"creator\": [{\\n            \"@type\": \"Person\",\\n            \"name\": \"Karen Farkas, cleveland.com\",\\n            \"email\": \"\"\\n        }],\\n            \"author\": [{\\n            \"@type\": \"Person\",\\n            \"name\": \"Karen Farkas, cleveland.com\",\\n            \"email\": \"\"\\n        }],\\n            \"keywords\": [\"@fbia\",\\n    \\n        \"@real-time-news\",\\n    \\n        \"baldwin-wallace-university\",\\n    \\n        \"barbara-snyder\",\\n    \\n        \"case-western-reserve-university\",\\n    \\n        \"john-carroll-university\",\\n    \\n        \"oberlin-college\"],\\n            \"articleSection\": \"News\",\\n            \"metadata\": {\\n                \"blog_id\": \"/metro\",\\n                \"entry_id\": \"21622286\",\\n                \"short_title\": \"Case Western Reserve University President Barbara Snyder\\'s base salary and bonus pay tops among private colleges in Ohio \",\\n                \\n                \"image_url\": \"https://www.cleveland.com/resizer/TGNM8-loeSZuDhjhqhthGsqgpTQ=/1200x0/advancelocal-adapter-image-uploads.s3.amazonaws.com/image.cleveland.com/home/cleve-media/width2048/img/plain_dealer_metro/photo/cwrus-snyder-tops-pay-scale-highest-paid-of-ohio-private-college-chiefs-at-over-1m-yearly-581ba32ba99d75e9.jpg\",\\n                \\n                \"author_name\": \"\",\\n                \"author_nickname\": \"\",\\n                \"source_blog_name\": \"Metro\",\\n                \"source_blog_url\": \"https://www.cleveland.com/metro/\",\\n                \"sponsored_content\": \"0\",\\n                \"ampurl\": \"https://www.cleveland.com/metro/2017/12/case_western_reserve_university_president_barbara_snyders_base_salary_and_bonus_pay_tops_among_private_colleges_in_ohio.html?outputType=amp\"\\n            }\\n        }\\n    </script> <script>\\n    window.adiData = {\\n        preview: false,\\n        affiliate: \\'cleveland\\',\\n        environment: \\'prod\\',\\n        pageType: \\'cal\\',\\n        siteSection: \\'News\\',\\n        rgProduct: \\'cal\\',\\n        entryUrl: \\'https://www.cleveland.com/metro/2017/12/case_western_reserve_university_president_barbara_snyders_base_salary_and_bonus_pay_tops_among_private_colleges_in_ohio.html\\',\\n        \\n        entryHeadline: \\'Case Western Reserve University President Barbara Snyder\\xe2\\x80\\x99s base salary and bonus pay tops among private colleges in Ohio\\',\\n        entryDescription: \\'Case Western Reserve University President Barbara Snyder\\xe2\\x80\\x99s $700,312 base pay and $175,000 bonus in 2015 again made her the highest paid  private college leader in Ohio, according to an annual report.\\',\\n        entryAuthorUsername: \\'kfarkas\\',\\n        entryDateOriginal: \\'2017-12-11T03:00:00Z\\',\\n        entryDateUpdated: \\'2017-12-11T04:00:00Z\\',\\n        \\n        entryTags: \\'@fbia;@real-time-news;baldwin-wallace-university;barbara-snyder;case-western-reserve-university;john-carroll-university;oberlin-college\\',\\n        entryId: \\'21622286\\',\\n        entryDepth: \\'1\\',\\n        blogName: \\'Metro\\',\\n        blogId: \\'metro\\',\\n        \\n        arcEntryId: \\'A2EQWKKGO5HHZLWG4H7LR5H5VU\\',\\n        \\n    };\\n    window.adiData.preview = window.location.host.match(/localhost|arcpublishing/) ? true : false;\\n    if (\\n        window.location.href === \\'https://www.gulflive.com/\\' ||\\n        window.location.href === \\'https://www-uat.gulflive.com/\\' ||\\n        window.location.href === \\'https://www.mardigras.com/\\' ||\\n        window.location.href === \\'https://www-uat.mardigras.com/\\'\\n    ) {\\n        window.adiData.siteSection = \\'Home Page\\';\\n    }\\n    window.dataLayer = window.dataLayer || [];\\n    window.dataLayer.push(window.adiData);\\n</script> <script>(function(w,d,s,l,i){w[l]=w[l]||[];w[l].push({\"gtm.start\":(new Date).getTime(),event:\"gtm.js\"});var f=d.getElementsByTagName(s)[0],j=d.createElement(s),dl=l!=\"dataLayer\"?\"\\\\x26l\\\\x3d\"+l:\"\";j.async=true;j.src=\"https://www.googletagmanager.com/gtm.js?id\\\\x3d\"+i+dl;f.parentNode.insertBefore(j,f)})(window,document,\"script\",\"dataLayer\",\"GTM-5FH8H3G\");</script> <link rel=\"icon\" href=\"https://www.cleveland.com/pb/resources/dist/cleveland/images/favicon.ico\" type=\"image/x-icon\"> <link rel=\"shortcut icon\" href=\"https://www.cleveland.com/pb/resources/dist/cleveland/images/favicon.ico\" type=\"image/x-icon\"> <link rel=\"dns-prefetch\" href=\"//media.cleveland.com\"/> <link href=\"https://www.cleveland.com/pb/resources/dist/cleveland/css/default09c63583dce1862164b1.css\" rel=\"stylesheet\"/> <script>!function(e,f,u,i){if(!document.getElementById(i)){e.async=1;e.src=u;e.id=i;e.onload=function(){window._taboola.push({article:\"auto\",url:\"https://www.cleveland.com/metro/2017/12/case_western_reserve_university_president_barbara_snyders_base_salary_and_bonus_pay_tops_among_private_colleges_in_ohio.html\"})};f.parentNode.insertBefore(e,f)}}(document.createElement(\"script\"),document.getElementsByTagName(\"script\")[0],\"https://cdn.taboola.com/libtrc/advance-network/loader.js\",\"tb_loader_script\");</script> </head> <body class=\"body__cleveland pageType__article\" data-affiliate=\"cleveland\" data-page-type=\"article\"> <div class=\"skipTo\"> <a class=\"skipTo__link\" href=\"#main\">Skip to Article</a> </div> <div class=\"toprail\" id=\"toprail\"> <div class=\"pb-container\"> </div> <header class=\"advtoprail\" data-sticky=\"true\"> <div class=\"advtoprail__left-corner\"> <div class=\"advtoprail__mainmenu\"> <nav class=\"advtoprail__mainmenu-nav\"> <button class=\"advtoprail__mainmenu-button js-button-masthead\" aria-expanded=\"false\" aria-label=\"Open the Main Navigation\" data-buttonname=\"main\"> <span class=\"advtoprail__mainmenu-button-icon\"></span> <span class=\"advtoprail__mainmenu-button-label\" id=\"mainmenu-label\">Menu</span> </button> <div class=\"advtoprail__dropdown js-dropdown js-dropdown-main\" aria-labelledby=\"mainmenu_label\" aria-hidden=\"true\" aria-expanded=\"false\" role=\"navigation\"> <div class=\"advtoprail__menuborderarrow\"></div> <div class=\"advtoprail__dropdown-outer js-mainmenu\"> <div class=\"advtoprail__dropdown-inner js-mainmenu-list\"> <ul class=\"advtoprail__mainmenu-menulist\"> <li class=\"advtoprail__mainmenu-menuitem js-mainmenu-item\"> <a class=\"advtoprail__mainmenu-menuitem-link js-mainmenu-link\" href=\"https://www.cleveland.com/\">Home</a> </li> <li class=\"advtoprail__mainmenu-menuitem--mobile\"> <button class=\"advtoprail__weather-button js-button-weather-mobile\" aria-label=\"Weather\" aria-expanded=\"false\"> <span class=\"advtoprail__weather-conditions js-weather-conditions\"> <span class=\"advtoprail__weather-title--menu js-weather-location\"></span> <span class=\"advtoprail__weather-temperature js-weather-temperature\"></span> </span> </button> </li> <li class=\"advtoprail__mainmenu-menuitem js-expandable\"> <a class=\"advtoprail__mainmenu-menuitem-link js-mainmenu-link\" href=\"https://www.cleveland.com/news/\">News</a> <button class=\"advtoprail__button-submenu js-button-mainmenu\" aria-label=\"Open the News submenu\" aria-expanded=\"false\"> <span class=\"advtoprail__button-submenu--open\">&rsaquo;</span> <span class=\"advtoprail__button-submenu--close\">&lsaquo;</span> </button> <ul class=\"advtoprail__mainmenu-menulist--submenu js-submenu\"> <li class=\"advtoprail__mainmenu-menuitem--submenu-backtomain\"> <button class=\"advtoprail__button-mobile-backtomain js-button-backtomain\"> <span class=\"advtoprail__button-icon--backmm\"></span> <span class=\"advtoprail__button-label--backmm\">Back To Main Menu</span> </button> </li> <li class=\"advtoprail__mainmenu-menuitem--submenu js-menuitem-submenu \"> <a class=\"advtoprail__mainmenu-menuitem-link js-mainmenu-link\" href=\"https://www.cleveland.com/metro/\">Metro</a> </li> <li class=\"advtoprail__mainmenu-menuitem--submenu js-menuitem-submenu\"> <a class=\"advtoprail__mainmenu-menuitem-link js-mainmenu-link\" href=\"http://www.cleveland.com/akron\">Akron News</a> </li> <li class=\"advtoprail__mainmenu-menuitem--submenu js-menuitem-submenu \"> <a class=\"advtoprail__mainmenu-menuitem-link js-mainmenu-link\" href=\"https://www.cleveland.com/plaindealer/\">The Plain Dealer</a> </li> <li class=\"advtoprail__mainmenu-menuitem--submenu js-menuitem-submenu \"> <a class=\"advtoprail__mainmenu-menuitem-link js-mainmenu-link\" href=\"https://www.cleveland.com/weather/\">Weather</a> </li> <li class=\"advtoprail__mainmenu-menuitem--submenu js-menuitem-submenu \"> <a class=\"advtoprail__mainmenu-menuitem-link js-mainmenu-link\" href=\"https://www.cleveland.com/healthfit/\">Health & Medical</a> </li> <li class=\"advtoprail__mainmenu-menuitem--submenu js-menuitem-submenu \"> <a class=\"advtoprail__mainmenu-menuitem-link js-mainmenu-link\" href=\"https://www.cleveland.com/crime/\">Crime</a> </li> <li class=\"advtoprail__mainmenu-menuitem--submenu js-menuitem-submenu \"> <a class=\"advtoprail__mainmenu-menuitem-link js-mainmenu-link\" href=\"https://www.cleveland.com/datacentral/\">Data Central</a> </li> <li class=\"advtoprail__mainmenu-menuitem--submenu js-menuitem-submenu js-expandable\"> <a class=\"advtoprail__mainmenu-menuitem-link js-mainmenu-link\" href=\"https://www.cleveland.com/columns/\">Columnists</a> <button class=\"advtoprail__button-submenu js-button-mainmenu\" aria-label=\"Open the Columnists submenu\" aria-expanded=\"false\"> <span class=\"advtoprail__button-submenu--open\">&rsaquo;</span> <span class=\"advtoprail__button-submenu--close\">&lsaquo;</span> </button> <ul class=\"advtoprail__mainmenu-menulist--subsubmenu js-submenu\"> <li class=\"advtoprail__mainmenu-menuitem--submenu-backtomain\"> <button class=\"advtoprail__button-mobile-backtomain js-button-backtomain\"> <span class=\"advtoprail__button-icon--backmm\"></span> <span class=\"advtoprail__button-label--backmm\">Back To Main Menu</span> </button> </li> <li class=\"advtoprail__mainmenu-menuitem--submenu js-menuitem-submenu\"> <a class=\"advtoprail__mainmenu-menuitem-link js-mainmenu-link\" href=\"https://www.cleveland.com/naymik/\">Mark Naymik</a> </li> <li class=\"advtoprail__mainmenu-menuitem--submenu js-menuitem-submenu\"> <a class=\"advtoprail__mainmenu-menuitem-link js-mainmenu-link\" href=\"https://www.cleveland.com/tipoff/\">Michael McIntyre</a> </li> <li class=\"advtoprail__mainmenu-menuitem--submenu js-menuitem-submenu\"> <a class=\"advtoprail__mainmenu-menuitem-link js-mainmenu-link\" href=\"https://www.cleveland.com/morris/\">Phillip Morris</a> </li> </ul> </li> <li class=\"advtoprail__mainmenu-menuitem--submenu js-menuitem-submenu \"> <a class=\"advtoprail__mainmenu-menuitem-link js-mainmenu-link\" href=\"https://www.cleveland.com/court-justice/\">Courts</a> </li> <li class=\"advtoprail__mainmenu-menuitem--submenu js-menuitem-submenu \"> <a class=\"advtoprail__mainmenu-menuitem-link js-mainmenu-link\" href=\"https://www.cleveland.com/nation/\">Nation</a> </li> <li class=\"advtoprail__mainmenu-menuitem--submenu js-menuitem-submenu \"> <a class=\"advtoprail__mainmenu-menuitem-link js-mainmenu-link\" href=\"https://www.cleveland.com/world/\">World</a> </li> <li class=\"advtoprail__mainmenu-menuitem--submenu js-menuitem-submenu js-expandable\"> <a class=\"advtoprail__mainmenu-menuitem-link js-mainmenu-link\" href=\"https://www.cleveland.com\">Special Reports</a> <button class=\"advtoprail__button-submenu js-button-mainmenu\" aria-label=\"Open the Special Reports submenu\" aria-expanded=\"false\"> <span class=\"advtoprail__button-submenu--open\">&rsaquo;</span> <span class=\"advtoprail__button-submenu--close\">&lsaquo;</span> </button> <ul class=\"advtoprail__mainmenu-menulist--subsubmenu js-submenu\"> <li class=\"advtoprail__mainmenu-menuitem--submenu-backtomain\"> <button class=\"advtoprail__button-mobile-backtomain js-button-backtomain\"> <span class=\"advtoprail__button-icon--backmm\"></span> <span class=\"advtoprail__button-label--backmm\">Back To Main Menu</span> </button> </li> <li class=\"advtoprail__mainmenu-menuitem--submenu js-menuitem-submenu\"> <a class=\"advtoprail__mainmenu-menuitem-link js-mainmenu-link\" href=\"https://www.cleveland.com/a-greater-cleveland/\">A Greater Cleveland</a> </li> <li class=\"advtoprail__mainmenu-menuitem--submenu js-menuitem-submenu\"> <a class=\"advtoprail__mainmenu-menuitem-link js-mainmenu-link\" href=\"http://www.cleveland.com/metro/index.ssf/page/a_critical_choice_plain_dealer_1.html\">A Critical Choice: Nursing home care</a> </li> <li class=\"advtoprail__mainmenu-menuitem--submenu js-menuitem-submenu\"> <a class=\"advtoprail__mainmenu-menuitem-link js-mainmenu-link\" href=\"http://www.cleveland.com/metro/index.ssf/page/court_costs_in_northeast_ohio.html\">At Any (Court) Cost</a> </li> <li class=\"advtoprail__mainmenu-menuitem--submenu js-menuitem-submenu\"> <a class=\"advtoprail__mainmenu-menuitem-link js-mainmenu-link\" href=\"http://www.cleveland.com/metro/index.ssf/page/clevelands_bike_life.html\">Cleveland\\xe2\\x80\\x99s Bike Life</a> </li> <li class=\"advtoprail__mainmenu-menuitem--submenu js-menuitem-submenu\"> <a class=\"advtoprail__mainmenu-menuitem-link js-mainmenu-link\" href=\"http://www.cleveland.com/metro/index.ssf/page/dear_cleveland.html\">Dear Cleveland</a> </li> <li class=\"advtoprail__mainmenu-menuitem--submenu js-menuitem-submenu\"> <a class=\"advtoprail__mainmenu-menuitem-link js-mainmenu-link\" href=\"http://www.cleveland.com/crime/index.ssf/page/heroin.html\">Heroins Human Toll</a> </li> <li class=\"advtoprail__mainmenu-menuitem--submenu js-menuitem-submenu\"> <a class=\"advtoprail__mainmenu-menuitem-link js-mainmenu-link\" href=\"http://www.cleveland.com/metro/index.ssf/page/justice_for_all_bail_reform_in.html\">Justice for All: Bail reform</a> </li> <li class=\"advtoprail__mainmenu-menuitem--submenu js-menuitem-submenu\"> <a class=\"advtoprail__mainmenu-menuitem-link js-mainmenu-link\" href=\"https://www.cleveland.com/knowtherx/\">Know the RX: Opioid addiction resources</a> </li> <li class=\"advtoprail__mainmenu-menuitem--submenu js-menuitem-submenu\"> <a class=\"advtoprail__mainmenu-menuitem-link js-mainmenu-link\" href=\"https://www.cleveland.com/out-of-line/\">Out of Line: Gerrymandering in Ohio</a> </li> <li class=\"advtoprail__mainmenu-menuitem--submenu js-menuitem-submenu\"> <a class=\"advtoprail__mainmenu-menuitem-link js-mainmenu-link\" href=\"http://www.cleveland.com/metro/index.ssf/page/recovering_hope.html\">Recovering Hope</a> </li> <li class=\"advtoprail__mainmenu-menuitem--submenu js-menuitem-submenu\"> <a class=\"advtoprail__mainmenu-menuitem-link js-mainmenu-link\" href=\"http://www.cleveland.com/cavs/index.ssf/page/remaking_the_q.html\">Remaking The Q</a> </li> <li class=\"advtoprail__mainmenu-menuitem--submenu js-menuitem-submenu\"> <a class=\"advtoprail__mainmenu-menuitem-link js-mainmenu-link\" href=\"http://www.cleveland.com/crime/index.ssf/page/stolen_in_the_suburbs_auto_the.html\">Stolen in the Suburbs</a> </li> </ul> </li> <li class=\"advtoprail__mainmenu-menuitem--submenu js-menuitem-submenu \"> <a class=\"advtoprail__mainmenu-menuitem-link js-mainmenu-link\" href=\"https://www.cleveland.com/city-club/\">City Club of Cleveland</a> </li> </ul></li> <li class=\"advtoprail__mainmenu-menuitem js-expandable\"> <a class=\"advtoprail__mainmenu-menuitem-link js-mainmenu-link\" href=\"https://www.cleveland.com/politics/\">National Politics & Elections</a> <button class=\"advtoprail__button-submenu js-button-mainmenu\" aria-label=\"Open the National Politics & Elections submenu\" aria-expanded=\"false\"> <span class=\"advtoprail__button-submenu--open\">&rsaquo;</span> <span class=\"advtoprail__button-submenu--close\">&lsaquo;</span> </button> <ul class=\"advtoprail__mainmenu-menulist--submenu js-submenu\"> <li class=\"advtoprail__mainmenu-menuitem--submenu-backtomain\"> <button class=\"advtoprail__button-mobile-backtomain js-button-backtomain\"> <span class=\"advtoprail__button-icon--backmm\"></span> <span class=\"advtoprail__button-label--backmm\">Back To Main Menu</span> </button> </li> <li class=\"advtoprail__mainmenu-menuitem--submenu js-menuitem-submenu \"> <a class=\"advtoprail__mainmenu-menuitem-link js-mainmenu-link\" href=\"https://www.cleveland.com/open/\">State Politics</a> </li> <li class=\"advtoprail__mainmenu-menuitem--submenu js-menuitem-submenu\"> <a class=\"advtoprail__mainmenu-menuitem-link js-mainmenu-link\" href=\"http://www.cleveland.com/politics/\">National Politics & Elections</a> </li> <li class=\"advtoprail__mainmenu-menuitem--submenu js-menuitem-submenu \"> <a class=\"advtoprail__mainmenu-menuitem-link js-mainmenu-link\" href=\"https://www.cleveland.com/cityhall/\">Cleveland City Hall</a> </li> <li class=\"advtoprail__mainmenu-menuitem--submenu js-menuitem-submenu \"> <a class=\"advtoprail__mainmenu-menuitem-link js-mainmenu-link\" href=\"https://www.cleveland.com/cuyahoga-county/\">Cuyahoga County Insider</a> </li> <li class=\"advtoprail__mainmenu-menuitem--submenu js-menuitem-submenu\"> <a class=\"advtoprail__mainmenu-menuitem-link js-mainmenu-link\" href=\"https://www.cleveland.com/out-of-line/\">Out of Line: Gerrymandering in Ohio</a> </li> <li class=\"advtoprail__mainmenu-menuitem--submenu js-menuitem-submenu\"> <a class=\"advtoprail__mainmenu-menuitem-link js-mainmenu-link\" href=\"http://www.cleveland.com/politics/index.ssf/page/ohio_matters_redesign_politica.html\">Special Report: Ohio Matters</a> </li> </ul></li> <li class=\"advtoprail__mainmenu-menuitem js-expandable\"> <a class=\"advtoprail__mainmenu-menuitem-link js-mainmenu-link\" href=\"https://www.cleveland.com/community/\">Local News</a> <button class=\"advtoprail__button-submenu js-button-mainmenu\" aria-label=\"Open the Local News submenu\" aria-expanded=\"false\"> <span class=\"advtoprail__button-submenu--open\">&rsaquo;</span> <span class=\"advtoprail__button-submenu--close\">&lsaquo;</span> </button> <ul class=\"advtoprail__mainmenu-menulist--submenu js-submenu\"> <li class=\"advtoprail__mainmenu-menuitem--submenu-backtomain\"> <button class=\"advtoprail__button-mobile-backtomain js-button-backtomain\"> <span class=\"advtoprail__button-icon--backmm\"></span> <span class=\"advtoprail__button-label--backmm\">Back To Main Menu</span> </button> </li> <li class=\"advtoprail__mainmenu-menuitem--submenu js-menuitem-submenu \"> <a class=\"advtoprail__mainmenu-menuitem-link js-mainmenu-link\" href=\"https://www.cleveland.com/akron/\">Akron</a> </li> <li class=\"advtoprail__mainmenu-menuitem--submenu js-menuitem-submenu \"> <a class=\"advtoprail__mainmenu-menuitem-link js-mainmenu-link\" href=\"https://www.cleveland.com/beachwood/\">Beachwood</a> </li> <li class=\"advtoprail__mainmenu-menuitem--submenu js-menuitem-submenu \"> <a class=\"advtoprail__mainmenu-menuitem-link js-mainmenu-link\" href=\"https://www.cleveland.com/berea/\">Berea</a> </li> <li class=\"advtoprail__mainmenu-menuitem--submenu js-menuitem-submenu \"> <a class=\"advtoprail__mainmenu-menuitem-link js-mainmenu-link\" href=\"https://www.cleveland.com/brecksville/\">Brecksville</a> </li> <li class=\"advtoprail__mainmenu-menuitem--submenu js-menuitem-submenu \"> <a class=\"advtoprail__mainmenu-menuitem-link js-mainmenu-link\" href=\"https://www.cleveland.com/brunswick/\">Brunswick</a> </li> <li class=\"advtoprail__mainmenu-menuitem--submenu js-menuitem-submenu \"> <a class=\"advtoprail__mainmenu-menuitem-link js-mainmenu-link\" href=\"https://www.cleveland.com/chagrin-falls/\">Chagrin Falls</a> </li> <li class=\"advtoprail__mainmenu-menuitem--submenu js-menuitem-submenu \"> <a class=\"advtoprail__mainmenu-menuitem-link js-mainmenu-link\" href=\"https://www.cleveland.com/cleveland-heights/\">Cleveland Heights</a> </li> <li class=\"advtoprail__mainmenu-menuitem--submenu js-menuitem-submenu \"> <a class=\"advtoprail__mainmenu-menuitem-link js-mainmenu-link\" href=\"https://www.cleveland.com/hillcrest/\">Hillcrest</a> </li> <li class=\"advtoprail__mainmenu-menuitem--submenu js-menuitem-submenu \"> <a class=\"advtoprail__mainmenu-menuitem-link js-mainmenu-link\" href=\"https://www.cleveland.com/lakewood/\">Lakewood</a> </li> <li class=\"advtoprail__mainmenu-menuitem--submenu js-menuitem-submenu \"> <a class=\"advtoprail__mainmenu-menuitem-link js-mainmenu-link\" href=\"https://www.cleveland.com/lyndhurst-south-euclid/\">Lyndhurst-South Euclid</a> </li> <li class=\"advtoprail__mainmenu-menuitem--submenu js-menuitem-submenu \"> <a class=\"advtoprail__mainmenu-menuitem-link js-mainmenu-link\" href=\"https://www.cleveland.com/medina/\">Medina</a> </li> <li class=\"advtoprail__mainmenu-menuitem--submenu js-menuitem-submenu \"> <a class=\"advtoprail__mainmenu-menuitem-link js-mainmenu-link\" href=\"https://www.cleveland.com/parma/\">Parma</a> </li> <li class=\"advtoprail__mainmenu-menuitem--submenu js-menuitem-submenu \"> <a class=\"advtoprail__mainmenu-menuitem-link js-mainmenu-link\" href=\"https://www.cleveland.com/shaker-heights/\">Shaker Heights</a> </li> <li class=\"advtoprail__mainmenu-menuitem--submenu js-menuitem-submenu \"> <a class=\"advtoprail__mainmenu-menuitem-link js-mainmenu-link\" href=\"https://www.cleveland.com/solon/\">Solon</a> </li> <li class=\"advtoprail__mainmenu-menuitem--submenu js-menuitem-submenu \"> <a class=\"advtoprail__mainmenu-menuitem-link js-mainmenu-link\" href=\"https://www.cleveland.com/strongsville/\">Strongsville</a> </li> <li class=\"advtoprail__mainmenu-menuitem--submenu js-menuitem-submenu \"> <a class=\"advtoprail__mainmenu-menuitem-link js-mainmenu-link\" href=\"https://www.cleveland.com/westlake/\">Westlake</a> </li> <li class=\"advtoprail__mainmenu-menuitem--submenu js-menuitem-submenu\"> <a class=\"advtoprail__mainmenu-menuitem-link js-mainmenu-link\" href=\"http://www.cleveland.com/sunnews/index.ssf/2013/01/read_the_news_from_east_and_so.html\">More East Side</a> </li> <li class=\"advtoprail__mainmenu-menuitem--submenu js-menuitem-submenu\"> <a class=\"advtoprail__mainmenu-menuitem-link js-mainmenu-link\" href=\"http://www.cleveland.com/sunnews/index.ssf/2013/01/read_the_news_from_west_and_so.html\">More West Side</a> </li> </ul></li> <li class=\"advtoprail__mainmenu-menuitem js-expandable\"> <a class=\"advtoprail__mainmenu-menuitem-link js-mainmenu-link\" href=\"https://www.cleveland.com/opinion/\">Opinion</a> <button class=\"advtoprail__button-submenu js-button-mainmenu\" aria-label=\"Open the Opinion submenu\" aria-expanded=\"false\"> <span class=\"advtoprail__button-submenu--open\">&rsaquo;</span> <span class=\"advtoprail__button-submenu--close\">&lsaquo;</span> </button> <ul class=\"advtoprail__mainmenu-menulist--submenu js-submenu\"> <li class=\"advtoprail__mainmenu-menuitem--submenu-backtomain\"> <button class=\"advtoprail__button-mobile-backtomain js-button-backtomain\"> <span class=\"advtoprail__button-icon--backmm\"></span> <span class=\"advtoprail__button-label--backmm\">Back To Main Menu</span> </button> </li> <li class=\"advtoprail__mainmenu-menuitem--submenu js-menuitem-submenu \"> <a class=\"advtoprail__mainmenu-menuitem-link js-mainmenu-link\" href=\"https://www.cleveland.com/letters/\">Letters to the Editor</a> </li> <li class=\"advtoprail__mainmenu-menuitem--submenu js-menuitem-submenu \"> <a class=\"advtoprail__mainmenu-menuitem-link js-mainmenu-link\" href=\"https://www.cleveland.com/darcy/\">Jeff Darcy\\'s Cartoons</a> </li> <li class=\"advtoprail__mainmenu-menuitem--submenu js-menuitem-submenu\"> <a class=\"advtoprail__mainmenu-menuitem-link js-mainmenu-link\" href=\"http://www.cleveland.com/columns/\">More columnists</a> </li> </ul></li> <li class=\"advtoprail__mainmenu-menuitem js-expandable\"> <a class=\"advtoprail__mainmenu-menuitem-link js-mainmenu-link\" href=\"https://www.cleveland.com/business/\">Business</a> <button class=\"advtoprail__button-submenu js-button-mainmenu\" aria-label=\"Open the Business submenu\" aria-expanded=\"false\"> <span class=\"advtoprail__button-submenu--open\">&rsaquo;</span> <span class=\"advtoprail__button-submenu--close\">&lsaquo;</span> </button> <ul class=\"advtoprail__mainmenu-menulist--submenu js-submenu\"> <li class=\"advtoprail__mainmenu-menuitem--submenu-backtomain\"> <button class=\"advtoprail__button-mobile-backtomain js-button-backtomain\"> <span class=\"advtoprail__button-icon--backmm\"></span> <span class=\"advtoprail__button-label--backmm\">Back To Main Menu</span> </button> </li> <li class=\"advtoprail__mainmenu-menuitem--submenu js-menuitem-submenu \"> <a class=\"advtoprail__mainmenu-menuitem-link js-mainmenu-link\" href=\"https://www.cleveland.com/ohio-utilities/\">Energy</a> </li> <li class=\"advtoprail__mainmenu-menuitem--submenu js-menuitem-submenu \"> <a class=\"advtoprail__mainmenu-menuitem-link js-mainmenu-link\" href=\"https://www.cleveland.com/consumeraffairs/\">Consumer Affairs</a> </li> <li class=\"advtoprail__mainmenu-menuitem--submenu js-menuitem-submenu \"> <a class=\"advtoprail__mainmenu-menuitem-link js-mainmenu-link\" href=\"https://www.cleveland.com/personalfinance/\">Personal Finance</a> </li> <li class=\"advtoprail__mainmenu-menuitem--submenu js-menuitem-submenu \"> <a class=\"advtoprail__mainmenu-menuitem-link js-mainmenu-link\" href=\"https://www.cleveland.com/top-workplaces/\">Top Workplaces</a> </li> </ul></li> <li class=\"advtoprail__mainmenu-menuitem js-expandable\"> <a class=\"advtoprail__mainmenu-menuitem-link js-mainmenu-link\" href=\"https://www.cleveland.com/sports/\">Sports</a> <button class=\"advtoprail__button-submenu js-button-mainmenu\" aria-label=\"Open the Sports submenu\" aria-expanded=\"false\"> <span class=\"advtoprail__button-submenu--open\">&rsaquo;</span> <span class=\"advtoprail__button-submenu--close\">&lsaquo;</span> </button> <ul class=\"advtoprail__mainmenu-menulist--submenu js-submenu\"> <li class=\"advtoprail__mainmenu-menuitem--submenu-backtomain\"> <button class=\"advtoprail__button-mobile-backtomain js-button-backtomain\"> <span class=\"advtoprail__button-icon--backmm\"></span> <span class=\"advtoprail__button-label--backmm\">Back To Main Menu</span> </button> </li> <li class=\"advtoprail__mainmenu-menuitem--submenu js-menuitem-submenu \"> <a class=\"advtoprail__mainmenu-menuitem-link js-mainmenu-link\" href=\"https://www.cleveland.com/browns/\">Browns</a> </li> <li class=\"advtoprail__mainmenu-menuitem--submenu js-menuitem-submenu \"> <a class=\"advtoprail__mainmenu-menuitem-link js-mainmenu-link\" href=\"https://www.cleveland.com/tribe/\">Indians</a> </li> <li class=\"advtoprail__mainmenu-menuitem--submenu js-menuitem-submenu \"> <a class=\"advtoprail__mainmenu-menuitem-link js-mainmenu-link\" href=\"https://www.cleveland.com/cavs/\">Cavaliers</a> </li> <li class=\"advtoprail__mainmenu-menuitem--submenu js-menuitem-submenu \"> <a class=\"advtoprail__mainmenu-menuitem-link js-mainmenu-link\" href=\"https://www.cleveland.com/osu/\">Ohio State</a> </li> <li class=\"advtoprail__mainmenu-menuitem--submenu js-menuitem-submenu \"> <a class=\"advtoprail__mainmenu-menuitem-link js-mainmenu-link\" href=\"https://www.cleveland.com/sports/college/\">College</a> </li> <li class=\"advtoprail__mainmenu-menuitem--submenu js-menuitem-submenu \"> <a class=\"advtoprail__mainmenu-menuitem-link js-mainmenu-link\" href=\"https://www.cleveland.com/highschoolsports/\">High School Sports</a> </li> <li class=\"advtoprail__mainmenu-menuitem--submenu js-menuitem-submenu js-expandable\"> <a class=\"advtoprail__mainmenu-menuitem-link js-mainmenu-link\" href=\"https://www.cleveland.com/sports/columns/\">Columns</a> <button class=\"advtoprail__button-submenu js-button-mainmenu\" aria-label=\"Open the Columns submenu\" aria-expanded=\"false\"> <span class=\"advtoprail__button-submenu--open\">&rsaquo;</span> <span class=\"advtoprail__button-submenu--close\">&lsaquo;</span> </button> <ul class=\"advtoprail__mainmenu-menulist--subsubmenu js-submenu\"> <li class=\"advtoprail__mainmenu-menuitem--submenu-backtomain\"> <button class=\"advtoprail__button-mobile-backtomain js-button-backtomain\"> <span class=\"advtoprail__button-icon--backmm\"></span> <span class=\"advtoprail__button-label--backmm\">Back To Main Menu</span> </button> </li> <li class=\"advtoprail__mainmenu-menuitem--submenu js-menuitem-submenu\"> <a class=\"advtoprail__mainmenu-menuitem-link js-mainmenu-link\" href=\"http://connect.cleveland.com/staff/dlesmeri/posts.html\">Doug Lesmerises</a> </li> <li class=\"advtoprail__mainmenu-menuitem--submenu js-menuitem-submenu\"> <a class=\"advtoprail__mainmenu-menuitem-link js-mainmenu-link\" href=\"https://www.cleveland.com/pluto/\">Terry Pluto</a> </li> <li class=\"advtoprail__mainmenu-menuitem--submenu js-menuitem-submenu\"> <a class=\"advtoprail__mainmenu-menuitem-link js-mainmenu-link\" href=\"http://connect.cleveland.com/staff/dmanolof/posts.html\">Dennis Manoloff</a> </li> </ul> </li> <li class=\"advtoprail__mainmenu-menuitem--submenu js-menuitem-submenu \"> <a class=\"advtoprail__mainmenu-menuitem-link js-mainmenu-link\" href=\"https://www.cleveland.com/monsters/\">Monsters</a> </li> <li class=\"advtoprail__mainmenu-menuitem--submenu js-menuitem-submenu \"> <a class=\"advtoprail__mainmenu-menuitem-link js-mainmenu-link\" href=\"https://www.cleveland.com/golf/\">Golf</a> </li> <li class=\"advtoprail__mainmenu-menuitem--submenu js-menuitem-submenu \"> <a class=\"advtoprail__mainmenu-menuitem-link js-mainmenu-link\" href=\"https://www.cleveland.com/horseracing/\">Horse Racing</a> </li> <li class=\"advtoprail__mainmenu-menuitem--submenu js-menuitem-submenu \"> <a class=\"advtoprail__mainmenu-menuitem-link js-mainmenu-link\" href=\"https://www.cleveland.com/outdoors/\">Outdoors</a> </li> </ul></li> <li class=\"advtoprail__mainmenu-menuitem js-expandable\"> <a class=\"advtoprail__mainmenu-menuitem-link js-mainmenu-link\" href=\"https://www.cleveland.com/entertainment/\">Entertainment</a> <button class=\"advtoprail__button-submenu js-button-mainmenu\" aria-label=\"Open the Entertainment submenu\" aria-expanded=\"false\"> <span class=\"advtoprail__button-submenu--open\">&rsaquo;</span> <span class=\"advtoprail__button-submenu--close\">&lsaquo;</span> </button> <ul class=\"advtoprail__mainmenu-menulist--submenu js-submenu\"> <li class=\"advtoprail__mainmenu-menuitem--submenu-backtomain\"> <button class=\"advtoprail__button-mobile-backtomain js-button-backtomain\"> <span class=\"advtoprail__button-icon--backmm\"></span> <span class=\"advtoprail__button-label--backmm\">Back To Main Menu</span> </button> </li> <li class=\"advtoprail__mainmenu-menuitem--submenu js-menuitem-submenu js-expandable\"> <a class=\"advtoprail__mainmenu-menuitem-link js-mainmenu-link\" href=\"https://www.cleveland.com/food/\">Food/Dining</a> <button class=\"advtoprail__button-submenu js-button-mainmenu\" aria-label=\"Open the Food/Dining submenu\" aria-expanded=\"false\"> <span class=\"advtoprail__button-submenu--open\">&rsaquo;</span> <span class=\"advtoprail__button-submenu--close\">&lsaquo;</span> </button> <ul class=\"advtoprail__mainmenu-menulist--subsubmenu js-submenu\"> <li class=\"advtoprail__mainmenu-menuitem--submenu-backtomain\"> <button class=\"advtoprail__button-mobile-backtomain js-button-backtomain\"> <span class=\"advtoprail__button-icon--backmm\"></span> <span class=\"advtoprail__button-label--backmm\">Back To Main Menu</span> </button> </li> <li class=\"advtoprail__mainmenu-menuitem--submenu js-menuitem-submenu\"> <a class=\"advtoprail__mainmenu-menuitem-link js-mainmenu-link\" href=\"https://www.cleveland.com/dining/\">Dining Guide</a> </li> <li class=\"advtoprail__mainmenu-menuitem--submenu js-menuitem-submenu\"> <a class=\"advtoprail__mainmenu-menuitem-link js-mainmenu-link\" href=\"https://www.cleveland.com/bars/\">Bars</a> </li> <li class=\"advtoprail__mainmenu-menuitem--submenu js-menuitem-submenu\"> <a class=\"advtoprail__mainmenu-menuitem-link js-mainmenu-link\" href=\"https://www.cleveland.com/cooking/\">Cooking</a> </li> <li class=\"advtoprail__mainmenu-menuitem--submenu js-menuitem-submenu\"> <a class=\"advtoprail__mainmenu-menuitem-link js-mainmenu-link\" href=\"https://www.cleveland.com/top-restaurants/\">Top Restaurants</a> </li> <li class=\"advtoprail__mainmenu-menuitem--submenu js-menuitem-submenu\"> <a class=\"advtoprail__mainmenu-menuitem-link js-mainmenu-link\" href=\"https://www.cleveland.com/drinks/\">Drinks</a> </li> </ul> </li> <li class=\"advtoprail__mainmenu-menuitem--submenu js-menuitem-submenu \"> <a class=\"advtoprail__mainmenu-menuitem-link js-mainmenu-link\" href=\"https://www.cleveland.com/best/\">Best Of</a> </li> <li class=\"advtoprail__mainmenu-menuitem--submenu js-menuitem-submenu\"> <a class=\"advtoprail__mainmenu-menuitem-link js-mainmenu-link\" href=\"/events\">Events</a> </li> <li class=\"advtoprail__mainmenu-menuitem--submenu js-menuitem-submenu \"> <a class=\"advtoprail__mainmenu-menuitem-link js-mainmenu-link\" href=\"https://www.cleveland.com/movies/\">Movies</a> </li> <li class=\"advtoprail__mainmenu-menuitem--submenu js-menuitem-submenu \"> <a class=\"advtoprail__mainmenu-menuitem-link js-mainmenu-link\" href=\"https://www.cleveland.com/music/\">Music</a> </li> <li class=\"advtoprail__mainmenu-menuitem--submenu js-menuitem-submenu \"> <a class=\"advtoprail__mainmenu-menuitem-link js-mainmenu-link\" href=\"https://www.cleveland.com/tv/\">TV</a> </li> <li class=\"advtoprail__mainmenu-menuitem--submenu js-menuitem-submenu \"> <a class=\"advtoprail__mainmenu-menuitem-link js-mainmenu-link\" href=\"https://www.cleveland.com/books/\">Books</a> </li> <li class=\"advtoprail__mainmenu-menuitem--submenu js-menuitem-submenu \"> <a class=\"advtoprail__mainmenu-menuitem-link js-mainmenu-link\" href=\"https://www.cleveland.com/arts/\">Arts</a> </li> <li class=\"advtoprail__mainmenu-menuitem--submenu js-menuitem-submenu \"> <a class=\"advtoprail__mainmenu-menuitem-link js-mainmenu-link\" href=\"https://www.cleveland.com/onstage/\">Theater</a> </li> <li class=\"advtoprail__mainmenu-menuitem--submenu js-menuitem-submenu \"> <a class=\"advtoprail__mainmenu-menuitem-link js-mainmenu-link\" href=\"https://www.cleveland.com/friday/\">Friday!</a> </li> <li class=\"advtoprail__mainmenu-menuitem--submenu js-menuitem-submenu \"> <a class=\"advtoprail__mainmenu-menuitem-link js-mainmenu-link\" href=\"https://www.cleveland.com/people/\">People</a> </li> <li class=\"advtoprail__mainmenu-menuitem--submenu js-menuitem-submenu \"> <a class=\"advtoprail__mainmenu-menuitem-link js-mainmenu-link\" href=\"https://www.cleveland.com/living/\">Living</a> </li> <li class=\"advtoprail__mainmenu-menuitem--submenu js-menuitem-submenu \"> <a class=\"advtoprail__mainmenu-menuitem-link js-mainmenu-link\" href=\"https://www.cleveland.com/travel/\">Travel</a> </li> <li class=\"advtoprail__mainmenu-menuitem--submenu js-menuitem-submenu \"> <a class=\"advtoprail__mainmenu-menuitem-link js-mainmenu-link\" href=\"https://www.cleveland.com/style/\">Style</a> </li> <li class=\"advtoprail__mainmenu-menuitem--submenu js-menuitem-submenu\"> <a class=\"advtoprail__mainmenu-menuitem-link js-mainmenu-link\" href=\"http://www.cleveland.com/essential/page/visitors-guide.html\">Essential CLE</a> </li> <li class=\"advtoprail__mainmenu-menuitem--submenu js-menuitem-submenu \"> <a class=\"advtoprail__mainmenu-menuitem-link js-mainmenu-link\" href=\"https://www.cleveland.com/comics/\">Comics</a> </li> <li class=\"advtoprail__mainmenu-menuitem--submenu js-menuitem-submenu \"> <a class=\"advtoprail__mainmenu-menuitem-link js-mainmenu-link\" href=\"https://www.cleveland.com/puzzles-games/\">Crossword & Puzzles</a> </li> </ul></li> <li class=\"advtoprail__mainmenu-menuitem\"> <a class=\"advtoprail__mainmenu-menuitem-link js-mainmenu-link\" href=\"http://obits.cleveland.com/obituaries/cleveland/\">Obituaries</a> </li> <li class=\"advtoprail__mainmenu-menuitem\"> <a class=\"advtoprail__mainmenu-menuitem-link js-mainmenu-link\" href=\"http://www.cleveland.com/jobs/\">Jobs</a> </li> <li class=\"advtoprail__mainmenu-menuitem\"> <a class=\"advtoprail__mainmenu-menuitem-link js-mainmenu-link\" href=\"http://autos.cleveland.com/\">Autos</a> </li> <li class=\"advtoprail__mainmenu-menuitem js-expandable\"> <a class=\"advtoprail__mainmenu-menuitem-link js-mainmenu-link\" href=\"http://realestate.cleveland.com/\">Real Estate</a> <button class=\"advtoprail__button-submenu js-button-mainmenu\" aria-label=\"Open the Real Estate submenu\" aria-expanded=\"false\"> <span class=\"advtoprail__button-submenu--open\">&rsaquo;</span> <span class=\"advtoprail__button-submenu--close\">&lsaquo;</span> </button> <ul class=\"advtoprail__mainmenu-menulist--submenu js-submenu\"> <li class=\"advtoprail__mainmenu-menuitem--submenu-backtomain\"> <button class=\"advtoprail__button-mobile-backtomain js-button-backtomain\"> <span class=\"advtoprail__button-icon--backmm\"></span> <span class=\"advtoprail__button-label--backmm\">Back To Main Menu</span> </button> </li> <li class=\"advtoprail__mainmenu-menuitem--submenu js-menuitem-submenu\"> <a class=\"advtoprail__mainmenu-menuitem-link js-mainmenu-link\" href=\"http://realestate.cleveland.com/\">Homes</a> </li> <li class=\"advtoprail__mainmenu-menuitem--submenu js-menuitem-submenu\"> <a class=\"advtoprail__mainmenu-menuitem-link js-mainmenu-link\" href=\"http://realestate.cleveland.com/new-homes/\">New Homes</a> </li> <li class=\"advtoprail__mainmenu-menuitem--submenu js-menuitem-submenu\"> <a class=\"advtoprail__mainmenu-menuitem-link js-mainmenu-link\" href=\"http://realestate.cleveland.com/for-rent/\">Rent</a> </li> <li class=\"advtoprail__mainmenu-menuitem--submenu js-menuitem-submenu\"> <a class=\"advtoprail__mainmenu-menuitem-link js-mainmenu-link\" href=\"http://foreclosures.cleveland.com/\">Foreclosures</a> </li> <li class=\"advtoprail__mainmenu-menuitem--submenu js-menuitem-submenu\"> <a class=\"advtoprail__mainmenu-menuitem-link js-mainmenu-link\" href=\"http://classifieds.cleveland.com/?cur_cat=&orig_cat=&orig_prop=cleveland.com&temp_type=browse&category=results&tp=ME_cleve&property=cleveland.com&classification=Commercial+Real+Estate\">Commercial</a> </li> <li class=\"advtoprail__mainmenu-menuitem--submenu js-menuitem-submenu\"> <a class=\"advtoprail__mainmenu-menuitem-link js-mainmenu-link\" href=\"http://realestate.cleveland.com/homeideas\">Home Remodeling</a> </li> </ul></li> <li class=\"advtoprail__mainmenu-menuitem js-expandable\"> <a class=\"advtoprail__mainmenu-menuitem-link js-mainmenu-link\" href=\"http://realestate.cleveland.com/for-rent/\">Rentals</a> <button class=\"advtoprail__button-submenu js-button-mainmenu\" aria-label=\"Open the Rentals submenu\" aria-expanded=\"false\"> <span class=\"advtoprail__button-submenu--open\">&rsaquo;</span> <span class=\"advtoprail__button-submenu--close\">&lsaquo;</span> </button> <ul class=\"advtoprail__mainmenu-menulist--submenu js-submenu\"> <li class=\"advtoprail__mainmenu-menuitem--submenu-backtomain\"> <button class=\"advtoprail__button-mobile-backtomain js-button-backtomain\"> <span class=\"advtoprail__button-icon--backmm\"></span> <span class=\"advtoprail__button-label--backmm\">Back To Main Menu</span> </button> </li> <li class=\"advtoprail__mainmenu-menuitem--submenu js-menuitem-submenu\"> <a class=\"advtoprail__mainmenu-menuitem-link js-mainmenu-link\" href=\"http://realestate.cleveland.com/for-rent/\">All Rentals</a> </li> <li class=\"advtoprail__mainmenu-menuitem--submenu js-menuitem-submenu\"> <a class=\"advtoprail__mainmenu-menuitem-link js-mainmenu-link\" href=\"http://realestate.cleveland.com/for-rent/\">Apartments & Communities</a> </li> <li class=\"advtoprail__mainmenu-menuitem--submenu js-menuitem-submenu\"> <a class=\"advtoprail__mainmenu-menuitem-link js-mainmenu-link\" href=\"http://www.cityfeet.com/cleveland/\">Commercial Leases</a> </li> </ul></li> <li class=\"advtoprail__mainmenu-menuitem js-expandable\"> <span class=\"advtoprail__mainmenu-menuitem-label\">Follow Us</span> <button class=\"advtoprail__button-submenu js-button-mainmenu\" aria-label=\"Open the Follow Us submenu\" aria-expanded=\"false\"> <span class=\"advtoprail__button-submenu--open\">&rsaquo;</span> <span class=\"advtoprail__button-submenu--close\">&lsaquo;</span> </button> <ul class=\"advtoprail__mainmenu-menulist--submenu js-submenu\"> <li class=\"advtoprail__mainmenu-menuitem--submenu-backtomain\"> <button class=\"advtoprail__button-mobile-backtomain js-button-backtomain\"> <span class=\"advtoprail__button-icon--backmm\"></span> <span class=\"advtoprail__button-label--backmm\">Back To Main Menu</span> </button> </li> <li class=\"advtoprail__mainmenu-menuitem--submenu js-menuitem-submenu\"> <a class=\"advtoprail__mainmenu-menuitem-link js-mainmenu-link\" href=\"http://www.facebook.com/pages/clevelandcom/48573742500\">Visit our Facebook Page</a> </li> <li class=\"advtoprail__mainmenu-menuitem--submenu js-menuitem-submenu\"> <a class=\"advtoprail__mainmenu-menuitem-link js-mainmenu-link\" href=\"http://twitter.com/clevelanddotcom\">Follow us on Twitter</a> </li> <li class=\"advtoprail__mainmenu-menuitem--submenu js-menuitem-submenu\"> <a class=\"advtoprail__mainmenu-menuitem-link js-mainmenu-link\" href=\"https://plus.google.com/u/0/b/107235278707360504631/107235278707360504631/posts\">Visit us on Google Plus</a> </li> </ul></li> <li class=\"advtoprail__mainmenu-menuitem js-expandable\"> <a class=\"advtoprail__mainmenu-menuitem-link js-mainmenu-link\" href=\"http://classifieds.cleveland.com/\">Classifieds</a> <button class=\"advtoprail__button-submenu js-button-mainmenu\" aria-label=\"Open the Classifieds submenu\" aria-expanded=\"false\"> <span class=\"advtoprail__button-submenu--open\">&rsaquo;</span> <span class=\"advtoprail__button-submenu--close\">&lsaquo;</span> </button> <ul class=\"advtoprail__mainmenu-menulist--submenu js-submenu\"> <li class=\"advtoprail__mainmenu-menuitem--submenu-backtomain\"> <button class=\"advtoprail__button-mobile-backtomain js-button-backtomain\"> <span class=\"advtoprail__button-icon--backmm\"></span> <span class=\"advtoprail__button-label--backmm\">Back To Main Menu</span> </button> </li> <li class=\"advtoprail__mainmenu-menuitem--submenu js-menuitem-submenu\"> <a class=\"advtoprail__mainmenu-menuitem-link js-mainmenu-link\" href=\"http://classifieds.cleveland.com/?orig_cat=&property=cleveland.com&orig_prop=cleveland.com&temp_type=browse&category=results&tp=ME_cleve&classification=Pets\">Pets</a> </li> <li class=\"advtoprail__mainmenu-menuitem--submenu js-menuitem-submenu\"> <a class=\"advtoprail__mainmenu-menuitem-link js-mainmenu-link\" href=\"http://classifieds.cleveland.com/?orig_cat=&property=cleveland.com&orig_prop=cleveland.com&temp_type=browse&category=results&tp=ME_cleve&classification=For+Sale\">For Sale</a> </li> <li class=\"advtoprail__mainmenu-menuitem--submenu js-menuitem-submenu\"> <a class=\"advtoprail__mainmenu-menuitem-link js-mainmenu-link\" href=\"http://classifieds.cleveland.com/?orig_prop=cleveland.com&property=cleveland.com&temp_type=browse&category=results&tp=ME_cleve&classification=Garage-Yard%20and%20Estate%20Sales\">Garage Sales</a> </li> <li class=\"advtoprail__mainmenu-menuitem--submenu js-menuitem-submenu\"> <a class=\"advtoprail__mainmenu-menuitem-link js-mainmenu-link\" href=\"http://www.cleveland.com/celebrations/\">Celebrations</a> </li> <li class=\"advtoprail__mainmenu-menuitem--submenu js-menuitem-submenu\"> <a class=\"advtoprail__mainmenu-menuitem-link js-mainmenu-link\" href=\"http://www.cleveland.com/placead/fraud_prevention/index.ssf\">Fraud Prevention</a> </li> <li class=\"advtoprail__mainmenu-menuitem--submenu js-menuitem-submenu\"> <a class=\"advtoprail__mainmenu-menuitem-link js-mainmenu-link\" href=\"http://www.cleveland.com/placead/manage/index.ssf\">Manage Your Ad</a> </li> <li class=\"advtoprail__mainmenu-menuitem--submenu js-menuitem-submenu\"> <a class=\"advtoprail__mainmenu-menuitem-link js-mainmenu-link\" href=\"http://www.cleveland.com/placead/\">Place an Ad</a> </li> </ul></li> <li class=\"advtoprail__mainmenu-menuitem\"> <a class=\"advtoprail__mainmenu-menuitem-link js-mainmenu-link\" href=\"https://www.cleveland.com/mobile-device/\">Mobile Apps</a> </li> <li class=\"advtoprail__mainmenu-menuitem\"> <a class=\"advtoprail__mainmenu-menuitem-link js-mainmenu-link\" href=\"http://subscription.cleveland.com/newsletters/\">Email Newsletters</a> </li> <li class=\"advtoprail__mainmenu-menuitem js-expandable\"> <a class=\"advtoprail__mainmenu-menuitem-link js-mainmenu-link\" href=\"http://businessfinder.cleveland.com/\">Local Businesses</a> <button class=\"advtoprail__button-submenu js-button-mainmenu\" aria-label=\"Open the Local Businesses submenu\" aria-expanded=\"false\"> <span class=\"advtoprail__button-submenu--open\">&rsaquo;</span> <span class=\"advtoprail__button-submenu--close\">&lsaquo;</span> </button> <ul class=\"advtoprail__mainmenu-menulist--submenu js-submenu\"> <li class=\"advtoprail__mainmenu-menuitem--submenu-backtomain\"> <button class=\"advtoprail__button-mobile-backtomain js-button-backtomain\"> <span class=\"advtoprail__button-icon--backmm\"></span> <span class=\"advtoprail__button-label--backmm\">Back To Main Menu</span> </button> </li> <li class=\"advtoprail__mainmenu-menuitem--submenu js-menuitem-submenu\"> <a class=\"advtoprail__mainmenu-menuitem-link js-mainmenu-link\" href=\"http://businessfinder.cleveland.com/\">Find A Business</a> </li> <li class=\"advtoprail__mainmenu-menuitem--submenu js-menuitem-submenu\"> <a class=\"advtoprail__mainmenu-menuitem-link js-mainmenu-link\" href=\"http://businessfinder.cleveland.com/OH-Cleveland/Food-and-Dining\">Food & Dining</a> </li> <li class=\"advtoprail__mainmenu-menuitem--submenu js-menuitem-submenu\"> <a class=\"advtoprail__mainmenu-menuitem-link js-mainmenu-link\" href=\"http://businessfinder.cleveland.com/OH-Cleveland/Retail-Shopping\">Retail Shopping</a> </li> <li class=\"advtoprail__mainmenu-menuitem--submenu js-menuitem-submenu\"> <a class=\"advtoprail__mainmenu-menuitem-link js-mainmenu-link\" href=\"http://businessfinder.cleveland.com/OH-Cleveland/Health-and-Medicine\">Health & Medicine</a> </li> <li class=\"advtoprail__mainmenu-menuitem--submenu js-menuitem-submenu\"> <a class=\"advtoprail__mainmenu-menuitem-link js-mainmenu-link\" href=\"http://businessfinder.cleveland.com/OH-Cleveland/Personal-Care-and-Well-Being\">Personal Care</a> </li> <li class=\"advtoprail__mainmenu-menuitem--submenu js-menuitem-submenu\"> <a class=\"advtoprail__mainmenu-menuitem-link js-mainmenu-link\" href=\"http://businessfinder.cleveland.com/OH-Cleveland/Entertainment-and-Arts\">Entertainment</a> </li> <li class=\"advtoprail__mainmenu-menuitem--submenu js-menuitem-submenu\"> <a class=\"advtoprail__mainmenu-menuitem-link js-mainmenu-link\" href=\"http://businessfinder.cleveland.com/OH-Cleveland/Real-Estate\">Real Estate</a> </li> <li class=\"advtoprail__mainmenu-menuitem--submenu js-menuitem-submenu\"> <a class=\"advtoprail__mainmenu-menuitem-link js-mainmenu-link\" href=\"http://businessfinder.cleveland.com/OH-Cleveland/Automotive\">Automotive</a> </li> <li class=\"advtoprail__mainmenu-menuitem--submenu js-menuitem-submenu\"> <a class=\"advtoprail__mainmenu-menuitem-link js-mainmenu-link\" href=\"http://businessfinder.cleveland.com/about/advertise.html\">Claim Your Business</a> </li> </ul></li> <li class=\"advtoprail__mainmenu-menuitem--subscribe js-expandable\"> <span id=\"mainmenu-subscriptions\">Subscriptions</span> <button class=\"advtoprail__button-submenu js-button-mainmenu\" aria-label=\"Open the subscriptions submenu\" aria-expanded=\"false\">&rsaquo;</button> <ul class=\"advtoprail__mainmenu-menulist--submenu js-submenu\"> <li class=\"advtoprail__mainmenu-menuitem--submenu-backtomain\"> <button class=\"advtoprail__button-mobile-backtomain js-button-backtomain\"> <span class=\"advtoprail__button-icon--backmm\"></span> <span class=\"advtoprail__button-label--backmm\">Back To Main Menu</span> </button> </li> <li class=\"advtoprail__mainmenu-menuitem--submenu\"> <a class=\"advtoprail__mainmenu-menuitem-link\" href=\"https://members.plaindealer.com/dssSubscribe.aspx\" aria-label=\"Subscribe to The Plain Dealer\">The Plain Dealer</a> </li> <li class=\"advtoprail__mainmenu-menuitem--submenu\"> <a class=\"advtoprail__mainmenu-menuitem-link\" href=\"https://members.plaindealer.com/dssSubscribe.aspx\" aria-label=\"Subscribe to Sun News\">Sun News</a> </li> <li class=\"advtoprail__mainmenu-menuitem--submenu\"> <a class=\"advtoprail__mainmenu-menuitem-link\" href=\"https://members.plaindealer.com/\" aria-label=\"Subscribe to Media Insider Rewards\">Media Insider Rewards</a> </li> </ul> </li> </ul> </div> </div> </div></nav> </div> <div class=\"advtoprail__weather js-weather\"> <button class=\"advtoprail__weather-button js-button-masthead js-button-weather\" aria-label=\"Find Your Local Weather Forecast\" aria-expanded=\"false\" data-buttonname=\"weatherUnset\"> <span class=\"advtoprail__weather-conditions js-weather-conditions\"> <span class=\"advtoprail__weather-temperature js-weather-temperature\"></span> </span> </button> <div class=\"advtoprail__dropdown--weather js-dropdown\" role=\"dialog\" aria-hidden=\"true\" aria-expanded=\"false\"> <div class=\"advtoprail__menuborderarrow--weather\"></div> <div class=\"advtoprail__dropdown-outer\"> <div class=\"advtoprail__dropdown-inner--weather\" aria-live=\"polite\"> <button class=\"advtoprail__button-mobile-backtomain js-button-backtomain\"> <span class=\"advtoprail__button-icon--backmm\"></span> <span class=\"advtoprail__button-label--backmm\">Back To Main Menu</span> </button> <button class=\"advtoprail__button--close js-button-close\" aria-label=\"Close the Find Your Weather Forecast popup\"> <span class=\"advtoprail__button-icon--close\">Close</span> </button> <div class=\"advtoprail__weather-details js-weather-form\"> <div class=\"advtoprail__weather-title\">Customize Your Weather</div> <div class=\"advtoprail__weather-label\">Set Your Location:</div> <div class=\"advtoprail__weather-error js-setweather-error\"></div> <div class=\"aria-hidden\">Enter City and State or Zip Code</div> <input class=\"advtoprail__input js-setweather-input\" name=\"advtoprail__input\" type=\"text\" value=\"\" placeholder=\"Enter City and State or Zip Code\"/> <input class=\"advtoprail__submit js-setweather-submit\" type=\"submit\" value=\"Submit\"/> </div> <div class=\"advtoprail__weather-details js-weather-confirm\"> <div class=\"advtoprail__weather-title\">Congratulations!</div> <div class=\"advtoprail__weather-label--confirm\">Your weather is set to <span class=\"js-chosen-location\"></span>. You can change the location at any time.</div> <input class=\"advtoprail__submit js-setweather-done\" type=\"button\" value=\"Done\"/> </div> <div class=\"advtoprail__weather-details js-weather-forecast\"> <div class=\"advtoprail__weather-subtitle\">AccuWeather.com Quick Look</div> <div class=\"advtoprail__weather-title js-weather-title\"></div> <button class=\"advtoprail__weather-button--change-location js-change-location\">Change your current location &raquo;</button> <div class=\"advtoprail__weather-forecast js-forecasts\"> <div class=\"advtoprail__weather-forecast-period js-forecast-current\"> <span class=\"advtoprail__weather-forecast-label js-weather-forecast-label\">Current</span> <span class=\"advtoprail__weather-forecast-highlow js-weather-forecast-highlow\"></span> <span class=\"advtoprail__weather-forecast-temperature js-weather-forecast-temperature\"></span> <span class=\"advtoprail__weather-forecast-condition js-weather-forecast-condition\"></span> </div> <div class=\"advtoprail__weather-forecast-period js-forecast-tonight\"> <span class=\"advtoprail__weather-forecast-label js-weather-forecast-label\">Tonight</span> <span class=\"advtoprail__weather-forecast-highlow js-weather-forecast-highlow\"></span> <span class=\"advtoprail__weather-forecast-temperature js-weather-forecast-temperature\"></span> <span class=\"advtoprail__weather-forecast-condition js-weather-forecast-condition\"></span> </div> <div class=\"advtoprail__weather-forecast-period js-forecast-tomorrow\"> <span class=\"advtoprail__weather-forecast-label js-weather-forecast-label\">Tomorrow</span> <span class=\"advtoprail__weather-forecast-highlow js-weather-forecast-highlow\"></span> <span class=\"advtoprail__weather-forecast-temperature js-weather-forecast-temperature\"></span> <span class=\"advtoprail__weather-forecast-condition js-weather-forecast-condition\"></span> </div> </div> <button class=\"advtoprail__weather-button-fullreport js-button-fullreport\">View Full Weather Report</button> </div> </div> </div> </div> </div><div class=\"advtoprail__mainmenu-sponsor adunit nomobilead\" id=\"TopRail_Sponsor\"></div> </div> <div class=\"advtoprail__masthead js-masthead\"> <div class=\"advtoprail__masthead-logo js-masthead-logo\"> <a class=\"advtoprail__masthead-afflink\" href=\"https://www.cleveland.com/\" aria-label=\"Visit the cleveland.com homepage\"> <img class=\"advtoprail__masthead-afflink-logo\" src=\"https://www.cleveland.com/pb/resources/dist/cleveland/images/logos/logo_main_inverse.svg\" alt=\"cleveland\\xe2\\x80\\x99s Logo\"/> </a> </div> </div> <div class=\"advtoprail__right-corner\"> <button class=\"advtoprail__button-subscribe js-button-masthead\" aria-label=\"View all of cleveland.com\\'s\\' available newspaper subscriptions and email newsletters\" aria-expanded=\"false\" data-buttonname=\"subscription\"> <div class=\"advtoprail__button-subscribe-label\">Subscribe</div> </button> <div class=\"advtoprail__dropdown advtoprail__dropdown--subscribe js-dropdown\" role=\"dialog\" aria-hidden=\"true\" aria-expanded=\"false\"> <div class=\"advtoprail__menuborderarrow\"></div> <div class=\"advtoprail__dropdown-outer\"> <div class=\"advtoprail__dropdown-inner\"> <ul class=\"advtoprail__subscription-menulist\"> <li class=\"advtoprail__subscription-menuitem\"> <a class=\"advtoprail__subscription-link js-subscription-link\" href=\"https://members.plaindealer.com/dssSubscribe.aspx\" aria-label=\"Subscribe to The Plain Dealer\">The Plain Dealer</a> </li> <li class=\"advtoprail__subscription-menuitem\"> <a class=\"advtoprail__subscription-link js-subscription-link\" href=\"https://members.plaindealer.com/dssSubscribe.aspx\" aria-label=\"Subscribe to Sun News\">Sun News</a> </li> <li class=\"advtoprail__subscription-menuitem\"> <a class=\"advtoprail__subscription-link js-subscription-link\" href=\"https://members.plaindealer.com/\" aria-label=\"Subscribe to Media Insider Rewards\">Media Insider Rewards</a> </li> </ul> </div> </div> </div> <button class=\"advtoprail__button--account js-button-account\" aria-expanded=\"false\" aria-label=\"Sign in to cleveland.com\"> <span class=\"advtoprail__button-icon--account\"></span> <span class=\"advtoprail__iconlabel\">Sign In</span> </button> <div class=\"advtoprail__dropdown-user js-dropdown-user\" role=\"dialog\" aria-hidden=\"true\" aria-expanded=\"false\"> <button class=\"advtoprail__button--close js-button-close js-button-account-close\"> <span class=\"advtoprail__button-icon--close\" aria-label=\"Close the User Account section\">Close</span> </button> <img class=\"advtoprail__user-profile-image js-account-image\" alt=\"User Profile\"/> <div class=\"advtoprail__user-profile-nameplate js-account-name\"> You are signed in as<br/> </div> <div class=\"advtoprail__user-profile-links\"> <a class=\"advtoprail__link--account-profile js-edit-profile\" aria-label=\"View your public profile\">Public Profile</a> <a class=\"advtoprail__link--account-edit js-button-edit\" aria-label=\"Edit your profile\">Edit Profile</a> <a class=\"advtoprail__link--account-signout js-edit-signout\">Sign Out</a> </div> </div><button class=\"advtoprail__button--search js-button-search\" id=\"adv_search\" aria-expanded=\"false\" aria-label=\"Search cleveland.com\"> <span class=\"advtoprail__button-icon--search\"></span> <span class=\"advtoprail__iconlabel\">Search</span> </button> </div> </header> <div class=\"pb-container\"> </div> </div> <div class=\"main-wrapper main-wrapper--article\"> <div id=\"belowToprail\" class=\"below-toprail\"> <div class=\"pb-container\"> <div id=\"topRail-Below-Flex\" class=\"ad ad--topRail-Below-Flex\"></div> </div> </div> <div id=\"fullWidth\" class=\"full-width\"> </div> <main id=\"main\" class=\"main\" aria-live=\"polite\"> <article class=\"article h-entry\" data-type=\"article\"> <header class=\"article__header\"> <nav class=\"articleLabel\" aria-label=\"articleLabel\"> <ol id=\"articleLabel__list\" class=\"articleLabel__list\"> <li id=\"articleLabel__listItem\" class=\"articleLabel__listItem\"> <a id=\"articleLabel__link\" class=\"articleLabel__link\" href=\"https://www.cleveland.com/metro\" title=\"Navigate to Metro\">Metro</a> </li> </ol> </nav> <h1 class=\"p-name\">Case Western Reserve University President Barbara Snyder\\'s base salary and bonus pay tops among private colleges in Ohio </h1> <div class=\"dateline\"> <span class=\"dateline__updated\"><time datetime=\"2017-12-10T23:00:00\" aria-label=\"December tenth two-thousand seventeen at eleven P M\">Updated Dec 10, 2017</time><span aria-hidden=\"true\">; </span></span> <span class=\"dateline__published\"><time datetime=\"2017-12-10T22:00:00\" aria-label=\"December tenth two-thousand seventeen at ten P M\">Posted Dec 10, 2017</time></span> </div> <figure class=\"article__mmm article__mmm--photo\"> <div class=\"article__mmm-wrapper\"> <div class=\"article__mmm-content-wrapper\"> <img src=\"http://image.cleveland.com/home/cleve-media/width600/img/plain_dealer_metro/photo/cwrus-snyder-tops-pay-scale-highest-paid-of-ohio-private-college-chiefs-at-over-1m-yearly-581ba32ba99d75e9.jpg\" alt=\"Case Western Reserve University President Barbara Snyder&#039;s base pay and bonus for 2015 ranked her first among private college presidents in Ohio. (John Kuntz, cleveland.com)\"> </div> <figcaption class=\"article__mmm-caption article__mmm-caption--image\"> <p class=\"article__mmm-image-caption-text\">Case Western Reserve University President Barbara Snyder&#039;s base pay and bonus for 2015 ranked her first among private college presidents in Ohio. (John Kuntz, cleveland.com)</p> </figcaption> </div> </figure> <div class=\"article__commentBubble-socialShare\"> <div class=\"commentBubble__container\"> <button class=\"commentBubble commentBubble--noComments\" data-url=\"https://www.cleveland.com/metro/2017/12/case_western_reserve_university_president_barbara_snyders_base_salary_and_bonus_pay_tops_among_private_colleges_in_ohio.html\" data-id=\"21622286\" data-legacy=\"273e236291b18c0720f9b1b13da4b999\" aria-label=\"Read all comments on this article\"> <span class=\"commentBubbleSpan\" data-type=\"commentBubble\"> <span class=\"viafoura\"> <span class=\"vf-counter vf-widget\" data-widget=\"counter\" data-url=\"https://www.cleveland.com/metro/2017/12/case_western_reserve_university_president_barbara_snyders_base_salary_and_bonus_pay_tops_among_private_colleges_in_ohio.html\" data-unique_id=\"21622286\"></span> </span> </span> </button> </div> <div id=\"social_A2EQWKKGO5HHZLWG4H7LR5H5VU\" class=\"adi-share-auto\" data-layout=\"horizontal\" data-link=\"https://www.cleveland.com/metro/2017/12/case_western_reserve_university_president_barbara_snyders_base_salary_and_bonus_pay_tops_among_private_colleges_in_ohio.html\" data-title=\"Case Western Reserve University President Barbara Snyder\\'s base salary and bonus pay tops among private colleges in Ohio \" data-thumbnail=\"https://www.cleveland.com/resizer/TGNM8-loeSZuDhjhqhthGsqgpTQ=/1200x0/advancelocal-adapter-image-uploads.s3.amazonaws.com/image.cleveland.com/home/cleve-media/width2048/img/plain_dealer_metro/photo/cwrus-snyder-tops-pay-scale-highest-paid-of-ohio-private-college-chiefs-at-over-1m-yearly-581ba32ba99d75e9.jpg\"></div> </div> <p class=\"byline\">By <a class=\"byline__authorLink\" href=\"http://connect.cleveland.com/staff/kfarkas/posts.html\" title=\"Visit Karen Farkas, cleveland.com&#39;s Author Page\">Karen Farkas, cleveland.com</a> </p> </header> <div class=\"article__story\"> <div class=\"entry-content\"> <p class=\"article__paragraph\">CLEVELAND, Ohio -\\xc2\\xa0<a href=\"http://www.case.edu/\">Case Western Reserve University\\xc2\\xa0</a>President Barbara Snyder\\'s $700,312 base pay and $175,000 bonus in 2015 again made her the highest paid private college leader in Ohio, according to an annual report.</p><p class=\"article__paragraph\">Nationally, Snyder\\'s total compensation of $1.154 million, which can include deferred compensation and other pay, ranked 41st out of 541 presidents of private colleges according to the report by the\\xc2\\xa0<a href=\"http://chronicle.com/\">Chronicle of Higher Education.</a></p> <div id=\"in-article_AOJSWF2SO5F6NLAFYE77J7FAPI\" class=\"ad ad--in-article\"></div> <p class=\"article__paragraph\">She is among 58 presidents to earn $1 million or more. The previous year, 39 private college presidents earned more than $1 million.</p><p class=\"article__paragraph\">The Chronicle\\'s <a href=\"https://www.chronicle.com/interactives/executive-compensation#id=table_private_2015\">compensation tables </a>come from a review of federal tax documents from the 2015 calendar year, the most recent available.</p><p class=\"article__paragraph\">Former University of Dayton President\\xc2\\xa0Daniel Curran, who left in 2016, ranked eighth in the U.S. with a total compensation of $2.44 million, but $1.66 million of that was in other pay, which was likely deferred compensation awarded after he announced his retirement. His total pay in 2014 was $771,354.</p><p class=\"article__paragraph\">Following is total compensation for other presidents at private colleges in Ohio in 2015:</p><ul class=\"article__unordered-list\"> <li class=\"article__unordered-list-item\">Grant Cornwell, College of Wooster (left in 2015): $911,651</li> <li class=\"article__unordered-list-item\">Marvin Krislov, Oberlin College (left in 2016): \\xc2\\xa0$829,913</li> <li class=\"article__unordered-list-item\">Mark Roosevelt, Antioch College, (left in 2015): $507,672</li> <li class=\"article__unordered-list-item\">Laurie Joyner, Wittenberg University (left in 2015): $463,504</li> <li class=\"article__unordered-list-item\">Richard Giese, University of Mount Union (left in 2015): $453,800</li> <li class=\"article__unordered-list-item\">Sean Decatur,Kenyon College: $451,698</li> <li class=\"article__unordered-list-item\">Adam Weinberg, Denison University: $435,322</li> <li class=\"article__unordered-list-item\">Daniel Dibiasio, Ohio Northern University: $414,716</li> <li class=\"article__unordered-list-item\">Denvy Bowman, Capital University (left in 2016): $388,570</li> <li class=\"article__unordered-list-item\">Anne Steele, Muskingum University (left in 2016): $384,233</li> <li class=\"article__unordered-list-item\">Kathy Krendl, Otterbein University: \\xc2\\xa0$378,035</li> <li class=\"article__unordered-list-item\">Rockwell Jones, Ohio Wesleyan University: $366,625</li> <li class=\"article__unordered-list-item\">Robert Helmer, Baldwin Wallace University: $365,616</li> <li class=\"article__unordered-list-item\">Robert Huntington, Heidelberg University: $300,005</li> <li class=\"article__unordered-list-item\">Lori Varlotta, Hiram College: $293,336</li> <li class=\"article__unordered-list-item\">Joseph Bruno, Marietta College (left in 2016): $288,295</li> <li class=\"article__unordered-list-item\">W. Richard Merriman Jr., University of Mount Union (started in June 2015): $221,761</li> </ul> <p class=\"article__paragraph\">The Rev. Robert Niehoff, president of John Carroll University (retired in 2017), Rev. Sean Sheridan of \\xc2\\xa0Franciscan University of Steubenville and Rev. Michael Graham Xavier University do not take salaries.</p><p class=\"article__paragraph\">See the full list of presidents at\\xc2\\xa0<a href=\"http://www.chronicle.com/compensation\">chronicle.com/compensation.</a></p><p class=\"article__paragraph\">The Chronicle\\'s list of pay for public college presidents was released in July.</p><div class=\"rawhtml\"><a href=\"http://www.cleveland.com/metro/index.ssf/2017/06/ohio_state_university_presiden_6.html\">Ohio State University President Michael Drake is 7th highest paid U.S. public college president</a></div> <p class=\"article__paragraph\">Ohio State President Michael Drake, with a total compensation of $1.03 million, was one of eight presidents who earned $1 million or more in the 2015-16 fiscal year.</p> <div id=\"in-article_FXUGCLQM3VGPHBZIYHU7QYIX7M\" class=\"ad ad--in-article\"></div> <p class=\"article__paragraph\">But when compared to Ohio State\\'s 2014 annual $5.2 billion operating budget, Drake\\'s pay per million in expenses is $199 -- among the lowest for presidents.</p><p class=\"article__paragraph\">By comparison, Cleveland State University President Ronald Berkman, whose total compensation was $641,817, oversaw an annual operating budget of $300.3 million in 2014. His pay per million in expenses was $2,127.</p><p class=\"article__paragraph\">Kent State University President Beverly Warren\\'s pay per million in expenses was $1,006. Her total compensation was $560,659 and she oversaw an annual operating budget of $557.4 million in 2014.</p><p class=\"article__paragraph\">The<a href=\"http://www.chronicle.com/interactives/executive-compensation\">\\xc2\\xa0Chronicle\\'s analysis\\xc2\\xa0</a>was based on 254 presidents from 221 colleges.</p><p class=\"article__paragraph\">According to the Chronicle:</p><ul class=\"article__unordered-list\"> <li class=\"article__unordered-list-item\">The average pay of private college presidents who served the full year in 2015 was $569,932, up 9 percent over presidents who served a full year in 2014.</li> <li class=\"article__unordered-list-item\">Nine of the 10 highest-paid chief executives earned more from bonuses and deferred compensation than they did from base salaries.</li> <li class=\"article__unordered-list-item\">The analysis is based on the latest available federal tax filings of the 500 private, nonprofit colleges with the largest endowments. The data include compensation figures for 568 presidents who served at 500 institutions for all or part of 2015. There were 352 presidents who served all of 2014 and 2015.</li> <li class=\"article__unordered-list-item\">The number of presidents earning over $1 million is attributed, in part, to a market where presidents are negotiating more deferred compensation and bonus packages before they take the job.</li> <li class=\"article__unordered-list-item\">The top two earners, Wake Forest University President Nathan Hatch ($4 million) and former Emory University President James Wagner ($3.5 million) were each paid more than $2 million in deferred compensation in 2015.</li> </ul> <p class=\"article__paragraph\">The Chronicle also compares pay to presidents in context of their colleges, including looking at each institution\\'s expenses, average tuition and fees and professor salaries.</p></div> </div> <button class=\"commentButton\" type=\"button\" data-url=\"https://www.cleveland.com/metro/2017/12/case_western_reserve_university_president_barbara_snyders_base_salary_and_bonus_pay_tops_among_private_colleges_in_ohio.html\" data-id=\"21622286\" data-legacy=\"273e236291b18c0720f9b1b13da4b999\" aria-label=\"Read all comments on this article\"> View Comments <span class=\"viafoura\"><span class=\"vf-counter vf-widget\" data-widget=\"counter\" data-url=\"https://www.cleveland.com/metro/2017/12/case_western_reserve_university_president_barbara_snyders_base_salary_and_bonus_pay_tops_among_private_colleges_in_ohio.html\" data-unique_id=\"21622286\"></span></span> </button> <div class=\"pb-container\"> </div> </article> </main> <div id=\"sidebar\" class=\"sidebar\"> <div class=\"pb-container\"> <div id=\"rightRail-Top-300xFlex\" class=\"ad ad--rightRail-Top-300xFlex\"></div> <div id=\"taboolahybridRightRail\"></div> <div id=\"rightRail-Bottom-300xFlex\" class=\"ad ad--rightRail-Bottom-300xFlex\"></div> </div> </div> </div> <div id=\"footer\" class=\"footer\"> <div class=\"footer\"> <nav class=\"footer__nav\"> <h2 class=\"footer__nav-title footer__nav-title--hidden\">Footer Navigation</h2> <div class=\"footer__nav-wrapper\"> </div> </nav> <div class=\"footer__disclaimer\"> <h2 class=\"footer__disclaimer-title footer__disclaimer-title--hidden\">Disclaimer</h2> <div class=\"footer__disclaimer-wrapper\"> <div class=\"footer__disclaimer-column footer__disclaimer-column--1\"> <a class=\"footer__disclaimer-logo-link\" href=\"https://www.advancelocal.com/\" id=\"AdvanceDigitalLogo\"> <img class=\"footer__disclaimer-logo-image\" src=\"https://www.cleveland.com/pb/resources/dist/common/images/footer-logo-advance.svg\" alt=\"Advance Local logo\" role=\"img\"> </a> </div> <div class=\"footer__disclaimer-column footer__disclaimer-column--2\"> <p class=\"footer__disclaimer-text\"> Registration on or use of this site constitutes acceptance of our <a href=\"https://www.cleveland.com/user-agreement/\">User Agreement</a> and <a href=\"https://www.cleveland.com/privacy-policy/\">Privacy Policy</a> </p> <p class=\"footer__disclaimer-text\">&copy; 2019 Advance Ohio. All rights reserved (<a href=\"https://www.cleveland.com/aboutus/\">About Us</a>).<br> The material on this site may not be reproduced, distributed, transmitted, cached or otherwise used, except with the prior written permission of Advance Ohio.</p> <p class=\"footer__disclaimer-text\"><a href=\"https://www.cleveland.com/communityrules/\">Community Rules</a> apply to all content you upload or otherwise submit to this site.</p> <p class=\"footer__disclaimer-text\"> <a href=\"https://www.cleveland.com/privacy-policy/#oba_top\"> <img src=\"https://www.cleveland.com/pb/resources/dist/common/images/ps-images/ad-choices-arrow.png\" alt=\"\"> Ad Choices </a> </p> </div> </div> </div> </div> <div class=\"pb-container\"> <div id=\"ad-wrapper__mobile-bottom-adhesion\" class=\"ad-wrapper__mobile-bottom-adhesion\" data-visible=\"true\"> <button id=\"mobile-bottom-adhesion__closeButton\" class=\"mobile-bottom-adhesion__closeButton mobile-bottom-adhesion__closeButton--show\"> <img class=\"mobile-bottom-adhesion__closeButton-image\" src=\"/pb/resources/dist/common/images/icons/close.svg\" alt=\"Close button for the advertisement.\"> </button> <div class=\"mobile-bottom-adhesion__wrapper\"> <div id=\"mobile-bottom-adhesion\" class=\"ad ad--mobile-bottom-adhesion\"></div> </div> </div> </div> </div> <div class=\"pb-container\"> </div> <script>\\n        // For Viafoura\\n        window.pageConfig = {\\n            uniqueId: \\'A2EQWKKGO5HHZLWG4H7LR5H5VU\\',\\n            authorId: \\'kfarkas\\',\\n            readOnly: JSON.parse( false ),\\n        };\\n        // For Off-Canvas Comments\\n        window.ocConfig = {\\n            pagetype: \\'cal\\',\\n        };\\n    </script> <script src=\"https://static.advance.net/static/social/viafoura/dist/comments.bundle.js\"></script> <script src=\"https://static.advance.net/static/common/js/ads/revgen.v2.js\"></script> <script>var adiTrackPromise=window.adiTrackPromise=function(){if(Promise)return new Promise(function(resolve,reject){function wait(){setTimeout(function(){return window.adiTrack?resolve():wait()},50)}wait()})}();</script> <script src=\"https://static.advance.net/static/common/js/adv-js-loader.js\"></script> <script src=\"https://code.jquery.com/jquery-1.8.2.min.js\" integrity=\"sha256-9VTS8JJyxvcUR+v+RTLTsd0ZWbzmafmlzMmeZO9RFyk=\" crossorigin=\"anonymous\"></script> <script src=\"https://static.advance.net/static/common/js/adv_gigya.js\"></script> <script src=\"https://www.cleveland.com/pb/resources/dist/common/js/article09c63583dce1862164b1.js\"></script> <script>if(document.getElementById(\"deals\"))document.getElementById(\"deals\").innerHTML=\"Deal$\";</script> <script>(function(){!function(o){function n(e){if(t[e])return t[e].exports;var i=t[e]={exports:{},id:e,loaded:!1};return o[e].call(i.exports,i,i.exports,n),i.loaded=!0,i.exports}var t={};return n.m=o,n.c=t,n.p=\"\",n(0)}({0:function(o,n,t){function e(o){return o&&o.__esModule?o:{\"default\":o}}function i(){if(!j){j=!0,window._sp_=window._sp_||{},H=window._sp_.config=window._sp_.config||{},K=H.content_control_callback||window._sp_lock,N=H.account_id||H.client_id||window.sp_cid;for(var o in H)T[o]=H[o]}}function r(o,\\nn){var t=arguments.length>2&&void 0!==arguments[2]?arguments[2]:\"\",e=new Image;e.src=\"//\"+E+\"/cct?v\\\\x3d\"+encodeURIComponent(x)+\"\\\\x26ct\\\\x3d1\\\\x26cid\\\\x3d\"+encodeURIComponent(N)+\"\\\\x26l\\\\x3d\"+encodeURIComponent(o.toString())+\"\\\\x26rc\\\\x3d\"+encodeURIComponent(n)+\"\\\\x26d0\\\\x3d\"+encodeURIComponent(t)}function c(o,n,t,e){var i=arguments.length>4&&void 0!==arguments[4]?arguments[4]:{},r=arguments.length>5&&void 0!==arguments[5]&&arguments[5],d=function(){return c(o,n,t,e,i,!0)},a=r?t:d;o(n,a,e,i)}function d(o,n,\\nt,e){var i=document.createElement(\"script\");i.src=o,i.onload=function(){try{if(window._sp_&&window._sp_.bootstrap===p&&window.spBootstrap===u&&window._sp_.config===H)for(var o in T){if(T[o]!==H[o]){h&&h();break}}else h&&h()}catch(n){h&&h()}e.onLoad&&e.onLoad()},i.onerror=function(){function i(o,n){t(o,n),e.onError&&e.onError(n)}function r(o){return c.indexOf(o)>-1}var c=(navigator.userAgent||navigator.vendor||window.opera).toLowerCase();r(\"mobi\")||r(\"ipad\")||r(\"android\")||r(\"iphone\")?i(S):r(\"exabot\")?\\ni(k):r(\"bingbot\")||r(\"bingpreview\")?i(D):r(\"googlebot\")||r(\"adsbot-google\")||r(\"mediapartners-google\")?i(R):r(\"googleweblight\")?i(I):window.location.host===g?i(L):window.location.host.indexOf(m)>-1?i(M):r(\"msie 10\")||r(\"msie 9\")||r(\"msie 8\")?i(U):a(o,n,i)},document.head.appendChild(i),document.querySelector(\\'script[src\\\\x3d\"\\'+o+\\'\"]\\')||window.location.host.indexOf(m)!==-1||n(O,o)}function a(o,n,t){(0,v[\"default\"])(o,function(e,i,r,c){var d=e||i?n:t;d(c,o+\"::\"+r)})}function s(o,n){return A?void w(B+\\n\"::\"+o,n):(r(y,o,n),void(K&&setTimeout(function(){K()},250)))}function w(o,n){r(C,o,n)}function u(o,n){i(),n&&(K=window._sp_lock=n),c(d,o,s,w)}function p(o,n){i(),c(d,o,s,w,n)}var f=t(383),l=e(f),_=t(99),v=e(_),g=[\"w\",\"e\",\"b\",\"c\",\"a\",\"c\",\"h\",\"e\",\".\",\"g\",\"o\",\"o\",\"g\",\"l\",\"e\",\"u\",\"s\",\"e\",\"r\",\"c\",\"o\",\"n\",\"t\",\"e\",\"n\",\"t\",\".\",\"c\",\"o\",\"m\"].join(\"\"),m=[\"o\",\"p\",\"t\",\"i\",\"m\",\"i\",\"z\",\"e\",\"l\",\"y\",\"p\",\"r\",\"e\",\"v\",\"i\",\"e\",\"w\",\".\",\"c\",\"o\",\"m\"].join(\"\"),h=void 0;try{h=window._sp_&&window._sp_.config&&window._sp_.config.spid_control_callback}catch(b){}var E=\\nl[\"default\"].be.join(\"\"),x=l[\"default\"].bv,C=0,y=1,O=\"s\",S=\"m\",R=\"g\",L=\"gw\",I=\"gl\",U=\"i\",D=\"b\",k=\"e\",B=\"n\",M=\"o\",T={},j=!1,A=!1,H=void 0,K=void 0,N=void 0;window.addEventListener(\"beforeunload\",function(){A=!0});try{window._sp_=window._sp_||{},window._sp_.bootstrap=p,window.spBootstrap=u,window._sp_.bootstrap===p&&window.spBootstrap===u||h&&h()}catch(b){h&&h()}},99:function(o,n){function t(o,n){function t(o){try{return o&&o.timeStamp?o.timeStamp:window.performance.now()}catch(o){return Date.now()}}\\nvar a=document.createElement(\"a\");if(a.href=o,\"https:\"===window.location.protocol&&a.protocol!==window.location.protocol)return void n(!1,!1,a.protocol,d);var s=new XMLHttpRequest;try{s.open(\"GET\",o)}catch(w){return void n(!0,!1,w.toString(),r,s)}var u=void 0,p=void 0;s.onloadstart=function(o){u=t(o)},s.onreadystatechange=function(o){if(4===this.readyState){p=t(o)-u;var r=0===this.status,c=\"2\"===this.status.toString()[0],d=c?i:e;return void n(r,c,this.status+\"::\"+p,d,s)}};try{s.send()}catch(w){return void n(!0,\\n!1,w.toString(),c,s)}}Object.defineProperty(n,\"__esModule\",{value:!0}),n[\"default\"]=t;var e=n.NETWORK_FAILURE=\"n\",i=n.XHR_SUCCEEDED=\"nx\",r=n.OPEN_BLOCKED=\"xo\",c=n.SEND_BLOCKED=\"xs\",d=n.PROTOCOL_MISMATCH=\"p\"},383:function(o,n){o.exports={be:[\"w\",\"w\",\"w\",\".\",\"b\",\"e\",\"e\",\"f\",\"t\",\"r\",\"a\",\"n\",\"s\",\"m\",\"i\",\"s\",\"s\",\"i\",\"o\",\"n\",\".\",\"c\",\"o\",\"m\"],bv:\"1.7.591\"}}});window._sp_=window._sp_||{};window._sp_.config=window._sp_.config||{};window._sp_.mms=window._sp_.mms||{};window._sp_.mms.cmd=window._sp_.mms.cmd||\\n[];window._sp_.config.account_id=148;window._sp_.config.mms_domain=\"mms.cleveland.com\";window._sp_.config.content_control_callback=function(){console.log(\"CONTENT LOCK\")};window._sp_.config.vid_control_callback=function(){console.log(\"vid\")};window._sp_.config.mms_client_data_callback=function showit(e){if(e.info.prtn_uuid!==null){var adblklabel=\"cmpgnID:\"+e.info.cmpgn_id+\"||prtnID:\"+e.info.prtn_uuid+\"||msgID:\"+e.info.msg_id+\"||abp:\"+e.d.abp+\"||abt:\"+e.d.abt;window.spVariation=adblklabel+\"||\";var spevt=\\ndocument.createEvent(\"Event\");spevt.initEvent(\"spoptly\",true,false);document.dispatchEvent(spevt)}};window._sp_.mms.cmd.push(function(){window._sp_.mms.startMsg()});window._sp_.bootstrap(\"//sp148.global.ssl.fastly.net/messaging.js\");window._sp_.bootstrap(\"//sp148.global.ssl.fastly.net/mms-client.js\")})();</script> <script async src=\\'https://www.cleveland.com/pb/gr/p/default/rzb2dd1NNWr7cr/render.js?v=148\\'></script></body> </html>'"
            ]
          },
          "metadata": {
            "tags": []
          },
          "execution_count": 2
        }
      ]
    },
    {
      "metadata": {
        "id": "VMeuScw5szZl",
        "colab_type": "text"
      },
      "cell_type": "markdown",
      "source": [
        "# Regular Expressions Using `re`"
      ]
    },
    {
      "metadata": {
        "id": "9QE7mDVGs2vo",
        "colab_type": "text"
      },
      "cell_type": "markdown",
      "source": [
        "## Presidents\n",
        "\n",
        "First we want to extract the names of the presidents. We do this taking advantage of the fact that the names come at the beginning of each newline. We therefore use an expression in the multiline mode, which treats every newline character as the end of the string (so the next character is the start of a string). The names also all end with a comma, so we can use this to bound the names. "
      ]
    },
    {
      "metadata": {
        "id": "U0MUZA5eOy9s",
        "colab_type": "code",
        "colab": {
          "base_uri": "https://localhost:8080/",
          "height": 35
        },
        "outputId": "d25bace8-d8e2-46e5-c046-affc9010c53a"
      },
      "cell_type": "code",
      "source": [
        "import re\n",
        "\n",
        "# Create a pattern to match names\n",
        "name_pattern = re.compile(r'^([A-Z]{1}.+?)(?:,)', flags = re.M)\n",
        "name_pattern.findall(content)"
      ],
      "execution_count": 6,
      "outputs": [
        {
          "output_type": "execute_result",
          "data": {
            "text/plain": [
              "[]"
            ]
          },
          "metadata": {
            "tags": []
          },
          "execution_count": 6
        }
      ]
    },
    {
      "metadata": {
        "id": "7wL_BHOGQC2w",
        "colab_type": "code",
        "colab": {}
      },
      "cell_type": "code",
      "source": [
        "names = name_pattern.findall(content)"
      ],
      "execution_count": 0,
      "outputs": []
    },
    {
      "metadata": {
        "id": "SnfSRd9ks9Aa",
        "colab_type": "text"
      },
      "cell_type": "markdown",
      "source": [
        "## Colleges\n",
        "\n",
        "The next piece of information to extract is the name of the schools. We can use the fact that each school name is preceded either by a comma (Kenyon College) or a comma and a space (I don't think this was intentional, but we can handle it). Each school name ends with a colon `:` or with a space and a left parenthesis ` (` or with a comma `,`. We use both of these to bound the college expression and extract the useful information. "
      ]
    },
    {
      "metadata": {
        "id": "BpI3uEHoP3X-",
        "colab_type": "code",
        "colab": {
          "base_uri": "https://localhost:8080/",
          "height": 243
        },
        "outputId": "650d406b-4056-4b2d-e541-cf3c7e45a0a1"
      },
      "cell_type": "code",
      "source": [
        "# Remind ourselves what our soup looks like\n",
        "pprint.pprint(content)"
      ],
      "execution_count": 8,
      "outputs": [
        {
          "output_type": "stream",
          "text": [
            "(' Grant Cornwell, College of Wooster (left in 2015): $911,651 Marvin Krislov, '\n",
            " 'Oberlin College (left in 2016): \\xa0$829,913 Mark Roosevelt, Antioch '\n",
            " 'College, (left in 2015): $507,672 Laurie Joyner, Wittenberg University (left '\n",
            " 'in 2015): $463,504 Richard Giese, University of Mount Union (left in 2015): '\n",
            " '$453,800 Sean Decatur,Kenyon College: $451,698 Adam Weinberg, Denison '\n",
            " 'University: $435,322 Daniel Dibiasio, Ohio Northern University: $414,716 '\n",
            " 'Denvy Bowman, Capital University (left in 2016): $388,570 Anne Steele, '\n",
            " 'Muskingum University (left in 2016): $384,233 Kathy Krendl, Otterbein '\n",
            " 'University: \\xa0$378,035 Rockwell Jones, Ohio Wesleyan University: $366,625 '\n",
            " 'Robert Helmer, Baldwin Wallace University: $365,616 Robert Huntington, '\n",
            " 'Heidelberg University: $300,005 Lori Varlotta, Hiram College: $293,336 '\n",
            " 'Joseph Bruno, Marietta College (left in 2016): $288,295 W. Richard Merriman '\n",
            " 'Jr., University of Mount Union (started in June 2015): $221,761 ')\n"
          ],
          "name": "stdout"
        }
      ]
    },
    {
      "metadata": {
        "id": "LiDpUp7IJ8LY",
        "colab_type": "code",
        "colab": {
          "base_uri": "https://localhost:8080/",
          "height": 312
        },
        "outputId": "8dd086ba-a791-4795-f0cb-4f485df59260"
      },
      "cell_type": "code",
      "source": [
        "# Make school patttern and examine results\n",
        "school_pattern = re.compile(r'(?:,|,\\s)([A-Z]{1}.*?)(?:\\s\\(|:|,)')\n",
        "school_pattern.findall(content)"
      ],
      "execution_count": 9,
      "outputs": [
        {
          "output_type": "execute_result",
          "data": {
            "text/plain": [
              "['College of Wooster',\n",
              " 'Oberlin College',\n",
              " 'Antioch College',\n",
              " 'Wittenberg University',\n",
              " 'University of Mount Union',\n",
              " 'Kenyon College',\n",
              " 'Denison University',\n",
              " 'Ohio Northern University',\n",
              " 'Capital University',\n",
              " 'Muskingum University',\n",
              " 'Otterbein University',\n",
              " 'Ohio Wesleyan University',\n",
              " 'Baldwin Wallace University',\n",
              " 'Heidelberg University',\n",
              " 'Hiram College',\n",
              " 'Marietta College',\n",
              " 'University of Mount Union']"
            ]
          },
          "metadata": {
            "tags": []
          },
          "execution_count": 9
        }
      ]
    },
    {
      "metadata": {
        "id": "qVArEMqRRhcs",
        "colab_type": "code",
        "colab": {}
      },
      "cell_type": "code",
      "source": [
        "# Extract the schools\n",
        "schools = school_pattern.findall(content)"
      ],
      "execution_count": 0,
      "outputs": []
    },
    {
      "metadata": {
        "id": "UH8jq4O8tI7c",
        "colab_type": "text"
      },
      "cell_type": "markdown",
      "source": [
        "## Salaries\n",
        "\n",
        "Finally, we need to get the salaries. This is relatively easy because all of the salaries are preceded by a dollar sign. Once we have extract the salaries as strings, we can use a Python list comprehension to remove the $ , and convert the string to a float. This uses a few Python shortcuts, and I like how elegant the list comprehension is. Writing Python can really a joy! "
      ]
    },
    {
      "metadata": {
        "id": "tcIb831uSiii",
        "colab_type": "code",
        "colab": {
          "base_uri": "https://localhost:8080/",
          "height": 55
        },
        "outputId": "c6e9bfda-f32c-4f76-994a-d8333eba2e02"
      },
      "cell_type": "code",
      "source": [
        "# Pattern to match the salaries\n",
        "salary_pattern = re.compile(r'\\$.+')\n",
        "salary_pattern.findall(content)"
      ],
      "execution_count": 11,
      "outputs": [
        {
          "output_type": "execute_result",
          "data": {
            "text/plain": [
              "['$911,651 Marvin Krislov, Oberlin College (left in 2016): \\xa0$829,913 Mark Roosevelt, Antioch College, (left in 2015): $507,672 Laurie Joyner, Wittenberg University (left in 2015): $463,504 Richard Giese, University of Mount Union (left in 2015): $453,800 Sean Decatur,Kenyon College: $451,698 Adam Weinberg, Denison University: $435,322 Daniel Dibiasio, Ohio Northern University: $414,716 Denvy Bowman, Capital University (left in 2016): $388,570 Anne Steele, Muskingum University (left in 2016): $384,233 Kathy Krendl, Otterbein University: \\xa0$378,035 Rockwell Jones, Ohio Wesleyan University: $366,625 Robert Helmer, Baldwin Wallace University: $365,616 Robert Huntington, Heidelberg University: $300,005 Lori Varlotta, Hiram College: $293,336 Joseph Bruno, Marietta College (left in 2016): $288,295 W. Richard Merriman Jr., University of Mount Union (started in June 2015): $221,761 ']"
            ]
          },
          "metadata": {
            "tags": []
          },
          "execution_count": 11
        }
      ]
    },
    {
      "metadata": {
        "id": "9cMR7Z_2tSSw",
        "colab_type": "text"
      },
      "cell_type": "markdown",
      "source": [
        "### Converting Dollar Strings to Numbers\n",
        "\n",
        "First we can see a brief example of each of the steps in the list comprehension. We use the `split` method to split each string into two separate strings at the comma (starting with the first character after the $). Then, we `join`, the two strings together with no separating character and convert the result to a float. All of this is wrapped in a list comprehension. The end result is a list of numeric values representing the Presidents' salaries."
      ]
    },
    {
      "metadata": {
        "id": "P4f2TmO2E-D4",
        "colab_type": "code",
        "colab": {
          "base_uri": "https://localhost:8080/",
          "height": 35
        },
        "outputId": "90802cf7-2684-4a00-aede-7d38ab56d928"
      },
      "cell_type": "code",
      "source": [
        "# Messy salary\n",
        "salary = '$876,001'\n",
        "\n",
        "# Exclude the $ and split the string on the comma\n",
        "salary[1:].split(',')"
      ],
      "execution_count": 12,
      "outputs": [
        {
          "output_type": "execute_result",
          "data": {
            "text/plain": [
              "['876', '001']"
            ]
          },
          "metadata": {
            "tags": []
          },
          "execution_count": 12
        }
      ]
    },
    {
      "metadata": {
        "id": "7Hndq4TAFJWI",
        "colab_type": "code",
        "colab": {
          "base_uri": "https://localhost:8080/",
          "height": 35
        },
        "outputId": "276446d7-a354-40b6-cd08-e78e83f7c4a3"
      },
      "cell_type": "code",
      "source": [
        "# Same operation but now join the list with no space\n",
        "''.join(salary[1:].split(','))"
      ],
      "execution_count": 13,
      "outputs": [
        {
          "output_type": "execute_result",
          "data": {
            "text/plain": [
              "'876001'"
            ]
          },
          "metadata": {
            "tags": []
          },
          "execution_count": 13
        }
      ]
    },
    {
      "metadata": {
        "id": "XKzwukqRFXvY",
        "colab_type": "code",
        "colab": {
          "base_uri": "https://localhost:8080/",
          "height": 35
        },
        "outputId": "5e9623f7-406e-4d3b-90c7-05d213e54a56"
      },
      "cell_type": "code",
      "source": [
        "# Finally convert the string to a float\n",
        "float(''.join(salary[1:].split(',')))"
      ],
      "execution_count": 14,
      "outputs": [
        {
          "output_type": "execute_result",
          "data": {
            "text/plain": [
              "876001.0"
            ]
          },
          "metadata": {
            "tags": []
          },
          "execution_count": 14
        }
      ]
    },
    {
      "metadata": {
        "id": "7Kf6u5poFdNQ",
        "colab_type": "text"
      },
      "cell_type": "markdown",
      "source": [
        "#### Example List Comprehension to Test Method"
      ]
    },
    {
      "metadata": {
        "id": "S9rfMCTyVWbQ",
        "colab_type": "code",
        "colab": {
          "base_uri": "https://localhost:8080/",
          "height": 35
        },
        "outputId": "b99b3934-30fd-460d-aa42-5162a0f5d7b9"
      },
      "cell_type": "code",
      "source": [
        "# Messy salaries\n",
        "salaries = ['$876,001', '$543,903', '$2453,896']\n",
        "\n",
        "# Convert salaries to numbers using the above procedure in a list comprehension \n",
        "[int(''.join(s[1:].split(','))) for s in salaries]"
      ],
      "execution_count": 15,
      "outputs": [
        {
          "output_type": "execute_result",
          "data": {
            "text/plain": [
              "[876001, 543903, 2453896]"
            ]
          },
          "metadata": {
            "tags": []
          },
          "execution_count": 15
        }
      ]
    },
    {
      "metadata": {
        "id": "O6-YQ_wjT8Ji",
        "colab_type": "code",
        "colab": {
          "base_uri": "https://localhost:8080/",
          "height": 308
        },
        "outputId": "88d34e15-650f-4a3b-a91a-dbcb029484f3"
      },
      "cell_type": "code",
      "source": [
        "# Extract all the salaries and convert to integers\n",
        "salaries = salary_pattern.findall(content)\n",
        "\n",
        "# List comprehension to convert strings to floats\n",
        "salaries = [int(''.join(s[1:].split(','))) for s in salaries]"
      ],
      "execution_count": 16,
      "outputs": [
        {
          "output_type": "error",
          "ename": "ValueError",
          "evalue": "ignored",
          "traceback": [
            "\u001b[0;31m---------------------------------------------------------------------------\u001b[0m",
            "\u001b[0;31mValueError\u001b[0m                                Traceback (most recent call last)",
            "\u001b[0;32m<ipython-input-16-db99bc39ac14>\u001b[0m in \u001b[0;36m<module>\u001b[0;34m()\u001b[0m\n\u001b[1;32m      2\u001b[0m \u001b[0;34m\u001b[0m\u001b[0m\n\u001b[1;32m      3\u001b[0m \u001b[0;31m# List comprehension to convert strings to floats\u001b[0m\u001b[0;34m\u001b[0m\u001b[0;34m\u001b[0m\u001b[0;34m\u001b[0m\u001b[0m\n\u001b[0;32m----> 4\u001b[0;31m \u001b[0msalaries\u001b[0m \u001b[0;34m=\u001b[0m \u001b[0;34m[\u001b[0m\u001b[0mint\u001b[0m\u001b[0;34m(\u001b[0m\u001b[0;34m''\u001b[0m\u001b[0;34m.\u001b[0m\u001b[0mjoin\u001b[0m\u001b[0;34m(\u001b[0m\u001b[0ms\u001b[0m\u001b[0;34m[\u001b[0m\u001b[0;36m1\u001b[0m\u001b[0;34m:\u001b[0m\u001b[0;34m]\u001b[0m\u001b[0;34m.\u001b[0m\u001b[0msplit\u001b[0m\u001b[0;34m(\u001b[0m\u001b[0;34m','\u001b[0m\u001b[0;34m)\u001b[0m\u001b[0;34m)\u001b[0m\u001b[0;34m)\u001b[0m \u001b[0;32mfor\u001b[0m \u001b[0ms\u001b[0m \u001b[0;32min\u001b[0m \u001b[0msalaries\u001b[0m\u001b[0;34m]\u001b[0m\u001b[0;34m\u001b[0m\u001b[0;34m\u001b[0m\u001b[0m\n\u001b[0m",
            "\u001b[0;32m<ipython-input-16-db99bc39ac14>\u001b[0m in \u001b[0;36m<listcomp>\u001b[0;34m(.0)\u001b[0m\n\u001b[1;32m      2\u001b[0m \u001b[0;34m\u001b[0m\u001b[0m\n\u001b[1;32m      3\u001b[0m \u001b[0;31m# List comprehension to convert strings to floats\u001b[0m\u001b[0;34m\u001b[0m\u001b[0;34m\u001b[0m\u001b[0;34m\u001b[0m\u001b[0m\n\u001b[0;32m----> 4\u001b[0;31m \u001b[0msalaries\u001b[0m \u001b[0;34m=\u001b[0m \u001b[0;34m[\u001b[0m\u001b[0mint\u001b[0m\u001b[0;34m(\u001b[0m\u001b[0;34m''\u001b[0m\u001b[0;34m.\u001b[0m\u001b[0mjoin\u001b[0m\u001b[0;34m(\u001b[0m\u001b[0ms\u001b[0m\u001b[0;34m[\u001b[0m\u001b[0;36m1\u001b[0m\u001b[0;34m:\u001b[0m\u001b[0;34m]\u001b[0m\u001b[0;34m.\u001b[0m\u001b[0msplit\u001b[0m\u001b[0;34m(\u001b[0m\u001b[0;34m','\u001b[0m\u001b[0;34m)\u001b[0m\u001b[0;34m)\u001b[0m\u001b[0;34m)\u001b[0m \u001b[0;32mfor\u001b[0m \u001b[0ms\u001b[0m \u001b[0;32min\u001b[0m \u001b[0msalaries\u001b[0m\u001b[0;34m]\u001b[0m\u001b[0;34m\u001b[0m\u001b[0;34m\u001b[0m\u001b[0m\n\u001b[0m",
            "\u001b[0;31mValueError\u001b[0m: invalid literal for int() with base 10: '911651 Marvin Krislov Oberlin College (left in 2016): \\xa0$829913 Mark Roosevelt Antioch College (left in 2015): $507672 Laurie Joyner Wittenberg University (left in 2015): $463504 Richard Giese Univ"
          ]
        }
      ]
    },
    {
      "metadata": {
        "id": "f84SCQCzUaim",
        "colab_type": "code",
        "colab": {
          "base_uri": "https://localhost:8080/",
          "height": 55
        },
        "outputId": "601ac66b-e858-4ac8-b73d-9e7909ddb260"
      },
      "cell_type": "code",
      "source": [
        "salaries"
      ],
      "execution_count": 17,
      "outputs": [
        {
          "output_type": "execute_result",
          "data": {
            "text/plain": [
              "['$911,651 Marvin Krislov, Oberlin College (left in 2016): \\xa0$829,913 Mark Roosevelt, Antioch College, (left in 2015): $507,672 Laurie Joyner, Wittenberg University (left in 2015): $463,504 Richard Giese, University of Mount Union (left in 2015): $453,800 Sean Decatur,Kenyon College: $451,698 Adam Weinberg, Denison University: $435,322 Daniel Dibiasio, Ohio Northern University: $414,716 Denvy Bowman, Capital University (left in 2016): $388,570 Anne Steele, Muskingum University (left in 2016): $384,233 Kathy Krendl, Otterbein University: \\xa0$378,035 Rockwell Jones, Ohio Wesleyan University: $366,625 Robert Helmer, Baldwin Wallace University: $365,616 Robert Huntington, Heidelberg University: $300,005 Lori Varlotta, Hiram College: $293,336 Joseph Bruno, Marietta College (left in 2016): $288,295 W. Richard Merriman Jr., University of Mount Union (started in June 2015): $221,761 ']"
            ]
          },
          "metadata": {
            "tags": []
          },
          "execution_count": 17
        }
      ]
    },
    {
      "metadata": {
        "id": "2Z40AFYOP1_M",
        "colab_type": "code",
        "colab": {
          "base_uri": "https://localhost:8080/",
          "height": 35
        },
        "outputId": "4f492318-548d-45b8-95b3-c03c9f885d27"
      },
      "cell_type": "code",
      "source": [
        "# Sanity check to make sure everything is correct!\n",
        "len(names) == len(schools) == len(salaries)"
      ],
      "execution_count": 18,
      "outputs": [
        {
          "output_type": "execute_result",
          "data": {
            "text/plain": [
              "False"
            ]
          },
          "metadata": {
            "tags": []
          },
          "execution_count": 18
        }
      ]
    },
    {
      "metadata": {
        "id": "SkpO7ODMte0D",
        "colab_type": "text"
      },
      "cell_type": "markdown",
      "source": [
        "# Visualization \n",
        "\n",
        "We will use the `matplotlib` and `seaborn` libraries for visualizing the results. `matplotlib` is great for creating quick visualizations, and I like the aesthetic style of `seaborn`. We'll start off by storing the data in a `pandas` dataframe, the common data structure of choice for data science.\n",
        "\n",
        "Here I am manually adding in my President's information to the dataframe. Sometimes knowing when it is faster to just do something by hand rather than writing a complicated program is a vital skill in data science."
      ]
    },
    {
      "metadata": {
        "id": "y25EZdiHUmt6",
        "colab_type": "code",
        "colab": {}
      },
      "cell_type": "code",
      "source": [
        "import pandas as pd\n",
        "\n",
        "# Put information into a dataframe\n",
        "df = pd.DataFrame({'salary': salaries, \n",
        "                   'President': names,\n",
        "                   'College': schools})\n",
        "\n",
        "# Append information\n",
        "df.loc[17, :] = ['CWRU', 'Barbara Synder', 1154000]\n",
        "\n",
        "# Sort the values by highest to lowest salary\n",
        "df = df.sort_values('salary', ascending=False).reset_index().drop(columns='index')"
      ],
      "execution_count": 0,
      "outputs": []
    },
    {
      "metadata": {
        "id": "j887NjcRt0No",
        "colab_type": "code",
        "colab": {}
      },
      "cell_type": "code",
      "source": [
        "df"
      ],
      "execution_count": 0,
      "outputs": []
    },
    {
      "metadata": {
        "id": "6thdceSxt9-0",
        "colab_type": "text"
      },
      "cell_type": "markdown",
      "source": [
        "## Quick First Visualization\n",
        "\n",
        "We can use plotting functionality built into pandas to rapidly create an initial figure. This at least conveys the information although it does not look very nice! "
      ]
    },
    {
      "metadata": {
        "id": "4zc1dqY0ZlrS",
        "colab_type": "code",
        "colab": {}
      },
      "cell_type": "code",
      "source": [
        "df.plot(kind='barh', x = 'President', y = 'salary');"
      ],
      "execution_count": 0,
      "outputs": []
    },
    {
      "metadata": {
        "id": "HYD2lStbuChr",
        "colab_type": "text"
      },
      "cell_type": "markdown",
      "source": [
        "## Improve the Plot\n",
        "\n",
        "Now comes an iterative procedure of improving the graphic. A lot of this involves using Stack Overflow and the [seaborn documentation](https://seaborn.pydata.org/generated/seaborn.barplot.html) to figure out how to make the plot look exactly like we want it. Plotting syntax often is pretty complicated, but don't worry about the specifics. You will always be able to look these up or build on old plots you or others made."
      ]
    },
    {
      "metadata": {
        "id": "LvceG6InaGDU",
        "colab_type": "code",
        "colab": {}
      },
      "cell_type": "code",
      "source": [
        "import matplotlib.pyplot as plt\n",
        "%matplotlib inline\n",
        "\n",
        "# Pick a style\n",
        "plt.style.use('fivethirtyeight')\n",
        "plt.rcParams['font.size'] = 16\n",
        "\n",
        "import seaborn as sns\n",
        "\n",
        "# Sort the values by highest to lowest salary\n",
        "df = df.sort_values('salary', ascending=False).reset_index()\n",
        "\n",
        "# Shorten this one name for plotting\n",
        "df.ix[df['College'] == 'University of Mount Union', 'College'] = 'Mount Union'"
      ],
      "execution_count": 0,
      "outputs": []
    },
    {
      "metadata": {
        "id": "KHeNb8oLaKSe",
        "colab_type": "code",
        "colab": {}
      },
      "cell_type": "code",
      "source": [
        "# Create the basic figure\n",
        "plt.figure(figsize=(10, 8))\n",
        "sns.barplot(x = 'salary', y = 'President', data = df, \n",
        "            color = 'tomato', edgecolor = 'k', linewidth = 2)\n",
        "\n",
        "# Add text showing values and colleges\n",
        "for i, row in df.iterrows():\n",
        "  plt.text(x = row['salary'] + 6000, y = i + 0.15, s = '$%d' % (round(row['salary'] / 1000) * 1000))\n",
        "  plt.text(x = 5000, y = i + 0.15, s = row['College'], size = 14)\n",
        "\n",
        "# Labels are a must!\n",
        "plt.xticks(size = 16); plt.yticks(size = 18)\n",
        "plt.xlabel('Total Compensation ($)')\n",
        "plt.ylabel('President') \n",
        "plt.title('2015 Compensation of Private Ohio College Presidents');"
      ],
      "execution_count": 0,
      "outputs": []
    },
    {
      "metadata": {
        "id": "NEO_bUhSNuWT",
        "colab_type": "code",
        "colab": {}
      },
      "cell_type": "code",
      "source": [
        "# Calculate value of 5 minutes of your presidents time\n",
        "five_minutes_fraction = 5 / (2000 * 60)\n",
        "total_df = pd.DataFrame(df.groupby('College')['salary'].sum())\n",
        "total_df['five_minutes_cost'] = round(total_df['salary'] * five_minutes_fraction)\n",
        "total_df = total_df.sort_values('five_minutes_cost', ascending = False).reset_index()\n",
        "\n",
        "total_df"
      ],
      "execution_count": 0,
      "outputs": []
    },
    {
      "metadata": {
        "id": "ctCFhJPlZxAs",
        "colab_type": "text"
      },
      "cell_type": "markdown",
      "source": [
        "## Final Product\n",
        "\n",
        "After several attempts (I have not shown all my failures along the way), we can create the final plot: how much are you paying for five minutes of your president's time. I wouldn't say the plot is production quality, but it is a good ending point for this project!"
      ]
    },
    {
      "metadata": {
        "id": "wIYvBEASRGnX",
        "colab_type": "code",
        "colab": {}
      },
      "cell_type": "code",
      "source": [
        "# Text for caption\n",
        "txt = 'Calculated from 2015 Total Compensation assuming 2000 hrs worked/year. Source: Chronical of Higher Education'\n",
        "\n",
        "# Create the basic barplot\n",
        "plt.figure(figsize=(10, 8))\n",
        "sns.barplot(x = 'five_minutes_cost', y = 'College', data = total_df, \n",
        "            color = 'red', edgecolor = 'k', linewidth = 2)\n",
        "\n",
        "# Add the text with the value\n",
        "for i, row in total_df.iterrows():\n",
        "  plt.text(x = row['five_minutes_cost'] + 0.5, y = i + 0.15, \n",
        "           s = '$%d' % (row['five_minutes_cost']), size = 18)\n",
        "\n",
        "# Add the caption\n",
        "plt.text(x = -5, y = 20, s = txt, size = 14)\n",
        "\n",
        "# Add the labels\n",
        "plt.xticks(size = 16); plt.yticks(size = 18)\n",
        "plt.xlabel('Value ($)')\n",
        "plt.ylabel('') \n",
        "plt.title(\"Value of Five Minutes of Your President's Time\");"
      ],
      "execution_count": 0,
      "outputs": []
    },
    {
      "metadata": {
        "id": "JDt9iuHnV8qy",
        "colab_type": "code",
        "colab": {}
      },
      "cell_type": "code",
      "source": [
        ""
      ],
      "execution_count": 0,
      "outputs": []
    }
  ]
}